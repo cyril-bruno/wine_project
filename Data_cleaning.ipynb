{
 "cells": [
  {
   "cell_type": "code",
   "execution_count": 1,
   "metadata": {},
   "outputs": [],
   "source": [
    "import pandas as pd\n",
    "import numpy as np"
   ]
  },
  {
   "cell_type": "code",
   "execution_count": 2,
   "metadata": {},
   "outputs": [],
   "source": [
    "wine = pd.read_csv(\"winemag-data-130k-v2.csv\", index_col=\"id\")"
   ]
  },
  {
   "cell_type": "markdown",
   "metadata": {},
   "source": [
    "# Aperçu de la data"
   ]
  },
  {
   "cell_type": "code",
   "execution_count": 3,
   "metadata": {},
   "outputs": [
    {
     "data": {
      "text/html": [
       "<div>\n",
       "<style scoped>\n",
       "    .dataframe tbody tr th:only-of-type {\n",
       "        vertical-align: middle;\n",
       "    }\n",
       "\n",
       "    .dataframe tbody tr th {\n",
       "        vertical-align: top;\n",
       "    }\n",
       "\n",
       "    .dataframe thead th {\n",
       "        text-align: right;\n",
       "    }\n",
       "</style>\n",
       "<table border=\"1\" class=\"dataframe\">\n",
       "  <thead>\n",
       "    <tr style=\"text-align: right;\">\n",
       "      <th></th>\n",
       "      <th>country</th>\n",
       "      <th>description</th>\n",
       "      <th>designation</th>\n",
       "      <th>points</th>\n",
       "      <th>price</th>\n",
       "      <th>province</th>\n",
       "      <th>region_1</th>\n",
       "      <th>region_2</th>\n",
       "      <th>taster_name</th>\n",
       "      <th>taster_twitter_handle</th>\n",
       "      <th>title</th>\n",
       "      <th>variety</th>\n",
       "      <th>winery</th>\n",
       "    </tr>\n",
       "    <tr>\n",
       "      <th>id</th>\n",
       "      <th></th>\n",
       "      <th></th>\n",
       "      <th></th>\n",
       "      <th></th>\n",
       "      <th></th>\n",
       "      <th></th>\n",
       "      <th></th>\n",
       "      <th></th>\n",
       "      <th></th>\n",
       "      <th></th>\n",
       "      <th></th>\n",
       "      <th></th>\n",
       "      <th></th>\n",
       "    </tr>\n",
       "  </thead>\n",
       "  <tbody>\n",
       "    <tr>\n",
       "      <th>0</th>\n",
       "      <td>Italy</td>\n",
       "      <td>Aromas include tropical fruit, broom, brimston...</td>\n",
       "      <td>Vulkà Bianco</td>\n",
       "      <td>87</td>\n",
       "      <td>NaN</td>\n",
       "      <td>Sicily &amp; Sardinia</td>\n",
       "      <td>Etna</td>\n",
       "      <td>NaN</td>\n",
       "      <td>Kerin O’Keefe</td>\n",
       "      <td>@kerinokeefe</td>\n",
       "      <td>Nicosia 2013 Vulkà Bianco  (Etna)</td>\n",
       "      <td>White Blend</td>\n",
       "      <td>Nicosia</td>\n",
       "    </tr>\n",
       "    <tr>\n",
       "      <th>1</th>\n",
       "      <td>Portugal</td>\n",
       "      <td>This is ripe and fruity, a wine that is smooth...</td>\n",
       "      <td>Avidagos</td>\n",
       "      <td>87</td>\n",
       "      <td>15.0</td>\n",
       "      <td>Douro</td>\n",
       "      <td>NaN</td>\n",
       "      <td>NaN</td>\n",
       "      <td>Roger Voss</td>\n",
       "      <td>@vossroger</td>\n",
       "      <td>Quinta dos Avidagos 2011 Avidagos Red (Douro)</td>\n",
       "      <td>Portuguese Red</td>\n",
       "      <td>Quinta dos Avidagos</td>\n",
       "    </tr>\n",
       "    <tr>\n",
       "      <th>2</th>\n",
       "      <td>US</td>\n",
       "      <td>Tart and snappy, the flavors of lime flesh and...</td>\n",
       "      <td>NaN</td>\n",
       "      <td>87</td>\n",
       "      <td>14.0</td>\n",
       "      <td>Oregon</td>\n",
       "      <td>Willamette Valley</td>\n",
       "      <td>Willamette Valley</td>\n",
       "      <td>Paul Gregutt</td>\n",
       "      <td>@paulgwine</td>\n",
       "      <td>Rainstorm 2013 Pinot Gris (Willamette Valley)</td>\n",
       "      <td>Pinot Gris</td>\n",
       "      <td>Rainstorm</td>\n",
       "    </tr>\n",
       "  </tbody>\n",
       "</table>\n",
       "</div>"
      ],
      "text/plain": [
       "     country                                        description   designation  \\\n",
       "id                                                                              \n",
       "0      Italy  Aromas include tropical fruit, broom, brimston...  Vulkà Bianco   \n",
       "1   Portugal  This is ripe and fruity, a wine that is smooth...      Avidagos   \n",
       "2         US  Tart and snappy, the flavors of lime flesh and...           NaN   \n",
       "\n",
       "    points  price           province           region_1           region_2  \\\n",
       "id                                                                           \n",
       "0       87    NaN  Sicily & Sardinia               Etna                NaN   \n",
       "1       87   15.0              Douro                NaN                NaN   \n",
       "2       87   14.0             Oregon  Willamette Valley  Willamette Valley   \n",
       "\n",
       "      taster_name taster_twitter_handle  \\\n",
       "id                                        \n",
       "0   Kerin O’Keefe          @kerinokeefe   \n",
       "1      Roger Voss            @vossroger   \n",
       "2    Paul Gregutt           @paulgwine    \n",
       "\n",
       "                                            title         variety  \\\n",
       "id                                                                  \n",
       "0               Nicosia 2013 Vulkà Bianco  (Etna)     White Blend   \n",
       "1   Quinta dos Avidagos 2011 Avidagos Red (Douro)  Portuguese Red   \n",
       "2   Rainstorm 2013 Pinot Gris (Willamette Valley)      Pinot Gris   \n",
       "\n",
       "                 winery  \n",
       "id                       \n",
       "0               Nicosia  \n",
       "1   Quinta dos Avidagos  \n",
       "2             Rainstorm  "
      ]
     },
     "execution_count": 3,
     "metadata": {},
     "output_type": "execute_result"
    }
   ],
   "source": [
    "wine.head(3)"
   ]
  },
  {
   "cell_type": "code",
   "execution_count": 4,
   "metadata": {},
   "outputs": [
    {
     "data": {
      "text/plain": [
       "country                  129908\n",
       "description              129971\n",
       "designation               92506\n",
       "points                   129971\n",
       "price                    120975\n",
       "province                 129908\n",
       "region_1                 108724\n",
       "region_2                  50511\n",
       "taster_name              103727\n",
       "taster_twitter_handle     98758\n",
       "title                    129971\n",
       "variety                  129970\n",
       "winery                   129971\n",
       "dtype: int64"
      ]
     },
     "execution_count": 4,
     "metadata": {},
     "output_type": "execute_result"
    }
   ],
   "source": [
    "wine.count()"
   ]
  },
  {
   "cell_type": "markdown",
   "metadata": {},
   "source": [
    "On remarque que beaucoups de lignes dans différentes colonnes sont vides"
   ]
  },
  {
   "cell_type": "markdown",
   "metadata": {},
   "source": [
    "# Nettoyage des données "
   ]
  },
  {
   "cell_type": "markdown",
   "metadata": {},
   "source": [
    "## Variety"
   ]
  },
  {
   "cell_type": "markdown",
   "metadata": {},
   "source": [
    "Commençons par isoler les variétés de vin qui apparaissent à peu de reprises"
   ]
  },
  {
   "cell_type": "code",
   "execution_count": 5,
   "metadata": {},
   "outputs": [
    {
     "data": {
      "text/plain": [
       "Pinot Noir                   13272\n",
       "Chardonnay                   11753\n",
       "Cabernet Sauvignon            9472\n",
       "Red Blend                     8946\n",
       "Bordeaux-style Red Blend      6915\n",
       "                             ...  \n",
       "Tempranillo-Tannat               1\n",
       "Silvaner-Traminer                1\n",
       "Pinot Gris-Gewürztraminer        1\n",
       "Kinali Yapincak                  1\n",
       "Loureiro-Arinto                  1\n",
       "Name: variety, Length: 707, dtype: int64"
      ]
     },
     "execution_count": 5,
     "metadata": {},
     "output_type": "execute_result"
    }
   ],
   "source": [
    "wine['variety'].value_counts()"
   ]
  },
  {
   "cell_type": "markdown",
   "metadata": {},
   "source": [
    "On crée une nouvelle colonne avec les valeurs de chaque variété"
   ]
  },
  {
   "cell_type": "code",
   "execution_count": 6,
   "metadata": {},
   "outputs": [
    {
     "data": {
      "text/html": [
       "<div>\n",
       "<style scoped>\n",
       "    .dataframe tbody tr th:only-of-type {\n",
       "        vertical-align: middle;\n",
       "    }\n",
       "\n",
       "    .dataframe tbody tr th {\n",
       "        vertical-align: top;\n",
       "    }\n",
       "\n",
       "    .dataframe thead th {\n",
       "        text-align: right;\n",
       "    }\n",
       "</style>\n",
       "<table border=\"1\" class=\"dataframe\">\n",
       "  <thead>\n",
       "    <tr style=\"text-align: right;\">\n",
       "      <th></th>\n",
       "      <th>country</th>\n",
       "      <th>description</th>\n",
       "      <th>designation</th>\n",
       "      <th>points</th>\n",
       "      <th>price</th>\n",
       "      <th>province</th>\n",
       "      <th>region_1</th>\n",
       "      <th>region_2</th>\n",
       "      <th>taster_name</th>\n",
       "      <th>taster_twitter_handle</th>\n",
       "      <th>title</th>\n",
       "      <th>variety</th>\n",
       "      <th>winery</th>\n",
       "      <th>variety_count</th>\n",
       "    </tr>\n",
       "    <tr>\n",
       "      <th>id</th>\n",
       "      <th></th>\n",
       "      <th></th>\n",
       "      <th></th>\n",
       "      <th></th>\n",
       "      <th></th>\n",
       "      <th></th>\n",
       "      <th></th>\n",
       "      <th></th>\n",
       "      <th></th>\n",
       "      <th></th>\n",
       "      <th></th>\n",
       "      <th></th>\n",
       "      <th></th>\n",
       "      <th></th>\n",
       "    </tr>\n",
       "  </thead>\n",
       "  <tbody>\n",
       "    <tr>\n",
       "      <th>0</th>\n",
       "      <td>Italy</td>\n",
       "      <td>Aromas include tropical fruit, broom, brimston...</td>\n",
       "      <td>Vulkà Bianco</td>\n",
       "      <td>87</td>\n",
       "      <td>NaN</td>\n",
       "      <td>Sicily &amp; Sardinia</td>\n",
       "      <td>Etna</td>\n",
       "      <td>NaN</td>\n",
       "      <td>Kerin O’Keefe</td>\n",
       "      <td>@kerinokeefe</td>\n",
       "      <td>Nicosia 2013 Vulkà Bianco  (Etna)</td>\n",
       "      <td>White Blend</td>\n",
       "      <td>Nicosia</td>\n",
       "      <td>2360.0</td>\n",
       "    </tr>\n",
       "  </tbody>\n",
       "</table>\n",
       "</div>"
      ],
      "text/plain": [
       "   country                                        description   designation  \\\n",
       "id                                                                            \n",
       "0    Italy  Aromas include tropical fruit, broom, brimston...  Vulkà Bianco   \n",
       "\n",
       "    points  price           province region_1 region_2    taster_name  \\\n",
       "id                                                                      \n",
       "0       87    NaN  Sicily & Sardinia     Etna      NaN  Kerin O’Keefe   \n",
       "\n",
       "   taster_twitter_handle                              title      variety  \\\n",
       "id                                                                         \n",
       "0           @kerinokeefe  Nicosia 2013 Vulkà Bianco  (Etna)  White Blend   \n",
       "\n",
       "     winery  variety_count  \n",
       "id                          \n",
       "0   Nicosia         2360.0  "
      ]
     },
     "execution_count": 6,
     "metadata": {},
     "output_type": "execute_result"
    }
   ],
   "source": [
    "wine['variety_count'] = wine.groupby('variety')['variety'].transform('count')\n",
    "wine.head(1)"
   ]
  },
  {
   "cell_type": "markdown",
   "metadata": {},
   "source": [
    "Puis on remplace les variétés présente moins de 1000 fois par la valeur 'Other' à l'aide d'une colonne dédiée  "
   ]
  },
  {
   "cell_type": "code",
   "execution_count": 7,
   "metadata": {},
   "outputs": [
    {
     "data": {
      "text/html": [
       "<div>\n",
       "<style scoped>\n",
       "    .dataframe tbody tr th:only-of-type {\n",
       "        vertical-align: middle;\n",
       "    }\n",
       "\n",
       "    .dataframe tbody tr th {\n",
       "        vertical-align: top;\n",
       "    }\n",
       "\n",
       "    .dataframe thead th {\n",
       "        text-align: right;\n",
       "    }\n",
       "</style>\n",
       "<table border=\"1\" class=\"dataframe\">\n",
       "  <thead>\n",
       "    <tr style=\"text-align: right;\">\n",
       "      <th></th>\n",
       "      <th>country</th>\n",
       "      <th>description</th>\n",
       "      <th>designation</th>\n",
       "      <th>points</th>\n",
       "      <th>price</th>\n",
       "      <th>province</th>\n",
       "      <th>region_1</th>\n",
       "      <th>region_2</th>\n",
       "      <th>taster_name</th>\n",
       "      <th>taster_twitter_handle</th>\n",
       "      <th>title</th>\n",
       "      <th>variety</th>\n",
       "      <th>winery</th>\n",
       "      <th>variety_count</th>\n",
       "      <th>other_variety</th>\n",
       "    </tr>\n",
       "    <tr>\n",
       "      <th>id</th>\n",
       "      <th></th>\n",
       "      <th></th>\n",
       "      <th></th>\n",
       "      <th></th>\n",
       "      <th></th>\n",
       "      <th></th>\n",
       "      <th></th>\n",
       "      <th></th>\n",
       "      <th></th>\n",
       "      <th></th>\n",
       "      <th></th>\n",
       "      <th></th>\n",
       "      <th></th>\n",
       "      <th></th>\n",
       "      <th></th>\n",
       "    </tr>\n",
       "  </thead>\n",
       "  <tbody>\n",
       "    <tr>\n",
       "      <th>0</th>\n",
       "      <td>Italy</td>\n",
       "      <td>Aromas include tropical fruit, broom, brimston...</td>\n",
       "      <td>Vulkà Bianco</td>\n",
       "      <td>87</td>\n",
       "      <td>NaN</td>\n",
       "      <td>Sicily &amp; Sardinia</td>\n",
       "      <td>Etna</td>\n",
       "      <td>NaN</td>\n",
       "      <td>Kerin O’Keefe</td>\n",
       "      <td>@kerinokeefe</td>\n",
       "      <td>Nicosia 2013 Vulkà Bianco  (Etna)</td>\n",
       "      <td>White Blend</td>\n",
       "      <td>Nicosia</td>\n",
       "      <td>2360.0</td>\n",
       "      <td>variety_ok</td>\n",
       "    </tr>\n",
       "  </tbody>\n",
       "</table>\n",
       "</div>"
      ],
      "text/plain": [
       "   country                                        description   designation  \\\n",
       "id                                                                            \n",
       "0    Italy  Aromas include tropical fruit, broom, brimston...  Vulkà Bianco   \n",
       "\n",
       "    points  price           province region_1 region_2    taster_name  \\\n",
       "id                                                                      \n",
       "0       87    NaN  Sicily & Sardinia     Etna      NaN  Kerin O’Keefe   \n",
       "\n",
       "   taster_twitter_handle                              title      variety  \\\n",
       "id                                                                         \n",
       "0           @kerinokeefe  Nicosia 2013 Vulkà Bianco  (Etna)  White Blend   \n",
       "\n",
       "     winery  variety_count other_variety  \n",
       "id                                        \n",
       "0   Nicosia         2360.0    variety_ok  "
      ]
     },
     "execution_count": 7,
     "metadata": {},
     "output_type": "execute_result"
    }
   ],
   "source": [
    "wine['other_variety'] = np.where(wine['variety_count']< 1000, 'Other', ['variety_ok'])\n",
    "wine.head(1)"
   ]
  },
  {
   "cell_type": "code",
   "execution_count": 8,
   "metadata": {},
   "outputs": [
    {
     "data": {
      "text/plain": [
       "Other                         26648\n",
       "Pinot Noir                    13272\n",
       "Chardonnay                    11753\n",
       "Cabernet Sauvignon             9472\n",
       "Red Blend                      8946\n",
       "Bordeaux-style Red Blend       6915\n",
       "Riesling                       5189\n",
       "Sauvignon Blanc                4967\n",
       "Syrah                          4142\n",
       "Rosé                           3564\n",
       "Merlot                         3102\n",
       "Nebbiolo                       2804\n",
       "Zinfandel                      2714\n",
       "Sangiovese                     2707\n",
       "Malbec                         2652\n",
       "Portuguese Red                 2466\n",
       "White Blend                    2360\n",
       "Sparkling Blend                2153\n",
       "Tempranillo                    1810\n",
       "Rhône-style Red Blend          1471\n",
       "Pinot Gris                     1455\n",
       "Champagne Blend                1396\n",
       "Cabernet Franc                 1353\n",
       "Grüner Veltliner               1345\n",
       "Portuguese White               1159\n",
       "Bordeaux-style White Blend     1066\n",
       "Pinot Grigio                   1052\n",
       "Gamay                          1025\n",
       "Gewürztraminer                 1012\n",
       "Name: variety, dtype: int64"
      ]
     },
     "execution_count": 8,
     "metadata": {},
     "output_type": "execute_result"
    }
   ],
   "source": [
    "wine.loc[wine['other_variety'] == 'Other', 'variety'] = 'Other'\n",
    "wine['variety'].value_counts()"
   ]
  },
  {
   "cell_type": "markdown",
   "metadata": {},
   "source": [
    "Nos variétés sont standardisées, on peut supprimer les colonnes devenues inutiles"
   ]
  },
  {
   "cell_type": "code",
   "execution_count": 9,
   "metadata": {},
   "outputs": [],
   "source": [
    "wine.drop(['variety_count', 'other_variety'], axis=1, inplace=True)"
   ]
  },
  {
   "cell_type": "markdown",
   "metadata": {},
   "source": [
    "## Winery"
   ]
  },
  {
   "cell_type": "markdown",
   "metadata": {},
   "source": [
    "Répétons l'opération avec la colonne vignoble cette fois-ci et un minimum de 10"
   ]
  },
  {
   "cell_type": "code",
   "execution_count": 10,
   "metadata": {},
   "outputs": [
    {
     "data": {
      "text/plain": [
       "Wines & Winemakers    222\n",
       "Testarossa            218\n",
       "DFJ Vinhos            215\n",
       "Williams Selyem       211\n",
       "Louis Latour          199\n",
       "                     ... \n",
       "Bernard Machado         1\n",
       "Dominique Pabiot        1\n",
       "Château Camplazens      1\n",
       "Château Fontenelle      1\n",
       "La Filice               1\n",
       "Name: winery, Length: 16757, dtype: int64"
      ]
     },
     "execution_count": 10,
     "metadata": {},
     "output_type": "execute_result"
    }
   ],
   "source": [
    "wine['winery'].value_counts()"
   ]
  },
  {
   "cell_type": "code",
   "execution_count": 11,
   "metadata": {},
   "outputs": [
    {
     "data": {
      "text/plain": [
       "Other                  40449\n",
       "Wines & Winemakers       222\n",
       "Testarossa               218\n",
       "DFJ Vinhos               215\n",
       "Williams Selyem          211\n",
       "                       ...  \n",
       "Sanctuary                 10\n",
       "Brandl                    10\n",
       "Espiritu de Chile         10\n",
       "Collelceto                10\n",
       "Quinta Vale do Armo       10\n",
       "Name: winery, Length: 3705, dtype: int64"
      ]
     },
     "execution_count": 11,
     "metadata": {},
     "output_type": "execute_result"
    }
   ],
   "source": [
    "wine['winery_count'] = wine.groupby('winery')['winery'].transform('count')\n",
    "wine['other_winery'] = np.where(wine['winery_count']< 10, 'Other', ['winery'])\n",
    "wine.loc[wine['other_winery'] == 'Other', 'winery'] = 'Other'\n",
    "\n",
    "wine.drop(['winery_count', 'other_winery'], axis=1, inplace=True)\n",
    "wine['winery'].value_counts()"
   ]
  },
  {
   "cell_type": "markdown",
   "metadata": {},
   "source": [
    "## Designation"
   ]
  },
  {
   "cell_type": "markdown",
   "metadata": {},
   "source": [
    "A nouveau la même opération avec la désignation, en prenant un minimum de 5 "
   ]
  },
  {
   "cell_type": "code",
   "execution_count": 12,
   "metadata": {},
   "outputs": [
    {
     "data": {
      "text/plain": [
       "Reserve                             2009\n",
       "Estate                              1322\n",
       "Reserva                             1259\n",
       "Riserva                              698\n",
       "Estate Grown                         621\n",
       "                                    ... \n",
       "den Hoed Vineyard                      1\n",
       "Cuvée Saint Rémi                       1\n",
       "Calvario                               1\n",
       "Rosé Pescador                          1\n",
       "Lone Tree Vineyard Barrel Select       1\n",
       "Name: designation, Length: 37976, dtype: int64"
      ]
     },
     "execution_count": 12,
     "metadata": {},
     "output_type": "execute_result"
    }
   ],
   "source": [
    "wine['designation'].value_counts()"
   ]
  },
  {
   "cell_type": "code",
   "execution_count": 13,
   "metadata": {},
   "outputs": [
    {
     "data": {
      "text/plain": [
       "Other                       53588\n",
       "Reserve                      2009\n",
       "Estate                       1322\n",
       "Reserva                      1259\n",
       "Riserva                       698\n",
       "                            ...  \n",
       "Saulheimer Hölle Trocken        5\n",
       "Moulin des Dames                5\n",
       "Grand Réserve                   5\n",
       "Cape Roca Fish                  5\n",
       "Four Flags                      5\n",
       "Name: designation, Length: 2968, dtype: int64"
      ]
     },
     "execution_count": 13,
     "metadata": {},
     "output_type": "execute_result"
    }
   ],
   "source": [
    "wine['designation_count'] = wine.groupby('designation')['designation'].transform('count')\n",
    "wine['other_designation'] = np.where(wine['designation_count']< 5, 'Other', ['designation'])\n",
    "wine.loc[wine['other_designation'] == 'Other', 'designation'] = 'Other'\n",
    "wine.drop(['designation_count', 'other_designation'], axis=1, inplace=True)\n",
    "wine['designation'].value_counts()"
   ]
  },
  {
   "cell_type": "markdown",
   "metadata": {},
   "source": [
    "## Province"
   ]
  },
  {
   "cell_type": "markdown",
   "metadata": {},
   "source": [
    "On continue avec la colonne Province et un seuil de 500"
   ]
  },
  {
   "cell_type": "code",
   "execution_count": 14,
   "metadata": {},
   "outputs": [
    {
     "data": {
      "text/plain": [
       "California              36247\n",
       "Other                   15864\n",
       "Washington               8639\n",
       "Bordeaux                 5941\n",
       "Tuscany                  5897\n",
       "Oregon                   5373\n",
       "Burgundy                 3980\n",
       "Northern Spain           3851\n",
       "Piedmont                 3729\n",
       "Mendoza Province         3264\n",
       "Veneto                   2716\n",
       "New York                 2688\n",
       "Alsace                   2440\n",
       "Northeastern Italy       2138\n",
       "Loire Valley             1856\n",
       "Sicily & Sardinia        1797\n",
       "Champagne                1613\n",
       "Southwest France         1503\n",
       "South Australia          1349\n",
       "Southern Italy           1349\n",
       "Provence                 1346\n",
       "Douro                    1281\n",
       "Central Italy            1233\n",
       "Catalonia                1164\n",
       "Rhône Valley             1081\n",
       "Beaujolais               1044\n",
       "Mosel                    1039\n",
       "Alentejano                937\n",
       "Colchagua Valley          830\n",
       "Marlborough               798\n",
       "Virginia                  777\n",
       "Tejo                      683\n",
       "France Other              676\n",
       "Burgenland                672\n",
       "Maipo Valley              659\n",
       "Languedoc-Roussillon      613\n",
       "Casablanca Valley         601\n",
       "Port                      601\n",
       "Niederösterreich          600\n",
       "Lombardy                  533\n",
       "Lisboa                    506\n",
       "Name: province, dtype: int64"
      ]
     },
     "execution_count": 14,
     "metadata": {},
     "output_type": "execute_result"
    }
   ],
   "source": [
    "wine['province_count'] = wine.groupby('province')['province'].transform('count')\n",
    "wine['other_province'] = np.where(wine['province_count']< 500, 'Other', ['province'])\n",
    "wine.loc[wine['other_province'] == 'Other', 'province'] = 'Other'\n",
    "wine.drop(['province_count', 'other_province'], axis=1, inplace=True)\n",
    "wine['province'].value_counts()"
   ]
  },
  {
   "cell_type": "markdown",
   "metadata": {},
   "source": [
    "## Title"
   ]
  },
  {
   "cell_type": "markdown",
   "metadata": {},
   "source": [
    "Analysons l'intitulé des vins"
   ]
  },
  {
   "cell_type": "code",
   "execution_count": 15,
   "metadata": {},
   "outputs": [
    {
     "data": {
      "text/plain": [
       "Gloria Ferrer NV Sonoma Brut Sparkling (Sonoma County)                     11\n",
       "Korbel NV Brut Sparkling (California)                                       9\n",
       "Segura Viudas NV Extra Dry Sparkling (Cava)                                 8\n",
       "Segura Viudas NV Aria Estate Extra Dry Sparkling (Cava)                     7\n",
       "Gloria Ferrer NV Blanc de Noirs Sparkling (Carneros)                        7\n",
       "                                                                           ..\n",
       "Cadence 2012 Tapteil Vineyard Red (Red Mountain)                            1\n",
       "Mesa Del Sol 2011 Prima Rosso Red (Arroyo Seco)                             1\n",
       "Beronia 2005 Reserva  (Rioja)                                               1\n",
       "Bruno Paillard 2002 Assemblage Brut  (Champagne)                            1\n",
       "Bouvet-Ladubay NV Signature Brut Chenin Blanc-Chardonnay (Vin Mousseux)     1\n",
       "Name: title, Length: 118840, dtype: int64"
      ]
     },
     "execution_count": 15,
     "metadata": {},
     "output_type": "execute_result"
    }
   ],
   "source": [
    "wine['title'].value_counts()"
   ]
  },
  {
   "cell_type": "markdown",
   "metadata": {},
   "source": [
    "On remarque deux choses, certains intitulés contiennent l'année de production du vin, et la plupart contiennent entre parenthèses des informations sur la région de  provenance qui sont redondantes avec les colonnes Province et Region_1 "
   ]
  },
  {
   "cell_type": "markdown",
   "metadata": {},
   "source": [
    "## Year"
   ]
  },
  {
   "cell_type": "markdown",
   "metadata": {},
   "source": [
    "Dans un premier temps nous allons extraire toutes les suites de 4 chiffres depuis la colonne Title pour les ajouter dans une nouvelle colonne Year"
   ]
  },
  {
   "cell_type": "code",
   "execution_count": 16,
   "metadata": {},
   "outputs": [
    {
     "data": {
      "text/html": [
       "<div>\n",
       "<style scoped>\n",
       "    .dataframe tbody tr th:only-of-type {\n",
       "        vertical-align: middle;\n",
       "    }\n",
       "\n",
       "    .dataframe tbody tr th {\n",
       "        vertical-align: top;\n",
       "    }\n",
       "\n",
       "    .dataframe thead th {\n",
       "        text-align: right;\n",
       "    }\n",
       "</style>\n",
       "<table border=\"1\" class=\"dataframe\">\n",
       "  <thead>\n",
       "    <tr style=\"text-align: right;\">\n",
       "      <th></th>\n",
       "      <th>country</th>\n",
       "      <th>description</th>\n",
       "      <th>designation</th>\n",
       "      <th>points</th>\n",
       "      <th>price</th>\n",
       "      <th>province</th>\n",
       "      <th>region_1</th>\n",
       "      <th>region_2</th>\n",
       "      <th>taster_name</th>\n",
       "      <th>taster_twitter_handle</th>\n",
       "      <th>title</th>\n",
       "      <th>variety</th>\n",
       "      <th>winery</th>\n",
       "      <th>year_from_title</th>\n",
       "    </tr>\n",
       "    <tr>\n",
       "      <th>id</th>\n",
       "      <th></th>\n",
       "      <th></th>\n",
       "      <th></th>\n",
       "      <th></th>\n",
       "      <th></th>\n",
       "      <th></th>\n",
       "      <th></th>\n",
       "      <th></th>\n",
       "      <th></th>\n",
       "      <th></th>\n",
       "      <th></th>\n",
       "      <th></th>\n",
       "      <th></th>\n",
       "      <th></th>\n",
       "    </tr>\n",
       "  </thead>\n",
       "  <tbody>\n",
       "    <tr>\n",
       "      <th>0</th>\n",
       "      <td>Italy</td>\n",
       "      <td>Aromas include tropical fruit, broom, brimston...</td>\n",
       "      <td>Other</td>\n",
       "      <td>87</td>\n",
       "      <td>NaN</td>\n",
       "      <td>Sicily &amp; Sardinia</td>\n",
       "      <td>Etna</td>\n",
       "      <td>NaN</td>\n",
       "      <td>Kerin O’Keefe</td>\n",
       "      <td>@kerinokeefe</td>\n",
       "      <td>Nicosia 2013 Vulkà Bianco  (Etna)</td>\n",
       "      <td>White Blend</td>\n",
       "      <td>Nicosia</td>\n",
       "      <td>2013</td>\n",
       "    </tr>\n",
       "  </tbody>\n",
       "</table>\n",
       "</div>"
      ],
      "text/plain": [
       "   country                                        description designation  \\\n",
       "id                                                                          \n",
       "0    Italy  Aromas include tropical fruit, broom, brimston...       Other   \n",
       "\n",
       "    points  price           province region_1 region_2    taster_name  \\\n",
       "id                                                                      \n",
       "0       87    NaN  Sicily & Sardinia     Etna      NaN  Kerin O’Keefe   \n",
       "\n",
       "   taster_twitter_handle                              title      variety  \\\n",
       "id                                                                         \n",
       "0           @kerinokeefe  Nicosia 2013 Vulkà Bianco  (Etna)  White Blend   \n",
       "\n",
       "     winery year_from_title  \n",
       "id                           \n",
       "0   Nicosia            2013  "
      ]
     },
     "execution_count": 16,
     "metadata": {},
     "output_type": "execute_result"
    }
   ],
   "source": [
    "import re as re\n",
    "def find_number(text):\n",
    "    num = re.findall(r'[0-9]{4}',text)\n",
    "    return \" \".join(num)\n",
    "wine['year_from_title']=wine['title'].apply(lambda x: find_number(x))\n",
    "wine.head(1)"
   ]
  },
  {
   "cell_type": "code",
   "execution_count": 17,
   "metadata": {},
   "outputs": [
    {
     "data": {
      "text/plain": [
       "2013         15805\n",
       "2012         15680\n",
       "2014         15526\n",
       "2011         12500\n",
       "2010         12127\n",
       "             ...  \n",
       "2009 1000        1\n",
       "2006 1905        1\n",
       "1965             1\n",
       "2011 1850        1\n",
       "2005 1772        1\n",
       "Name: year_from_title, Length: 386, dtype: int64"
      ]
     },
     "execution_count": 17,
     "metadata": {},
     "output_type": "execute_result"
    }
   ],
   "source": [
    "wine['year_from_title'].value_counts()"
   ]
  },
  {
   "cell_type": "markdown",
   "metadata": {},
   "source": [
    "Certaines lignes contiennent plusieurs suites de 4 chiffres, pour en savoir plus on va créer une DataFrame à partir de cette colonne Year"
   ]
  },
  {
   "cell_type": "code",
   "execution_count": 18,
   "metadata": {},
   "outputs": [],
   "source": [
    "import re\n",
    "x = []\n",
    "for i in wine['year_from_title']:\n",
    "    x.append(re.findall(\"[0-2][0-9][0-9][0-9]\", i))"
   ]
  },
  {
   "cell_type": "code",
   "execution_count": 19,
   "metadata": {},
   "outputs": [
    {
     "data": {
      "text/html": [
       "<div>\n",
       "<style scoped>\n",
       "    .dataframe tbody tr th:only-of-type {\n",
       "        vertical-align: middle;\n",
       "    }\n",
       "\n",
       "    .dataframe tbody tr th {\n",
       "        vertical-align: top;\n",
       "    }\n",
       "\n",
       "    .dataframe thead th {\n",
       "        text-align: right;\n",
       "    }\n",
       "</style>\n",
       "<table border=\"1\" class=\"dataframe\">\n",
       "  <thead>\n",
       "    <tr style=\"text-align: right;\">\n",
       "      <th></th>\n",
       "      <th>0</th>\n",
       "      <th>1</th>\n",
       "      <th>2</th>\n",
       "    </tr>\n",
       "  </thead>\n",
       "  <tbody>\n",
       "    <tr>\n",
       "      <th>count</th>\n",
       "      <td>125362</td>\n",
       "      <td>439</td>\n",
       "      <td>3</td>\n",
       "    </tr>\n",
       "    <tr>\n",
       "      <th>unique</th>\n",
       "      <td>89</td>\n",
       "      <td>111</td>\n",
       "      <td>2</td>\n",
       "    </tr>\n",
       "    <tr>\n",
       "      <th>top</th>\n",
       "      <td>2013</td>\n",
       "      <td>1865</td>\n",
       "      <td>1492</td>\n",
       "    </tr>\n",
       "    <tr>\n",
       "      <th>freq</th>\n",
       "      <td>15855</td>\n",
       "      <td>36</td>\n",
       "      <td>2</td>\n",
       "    </tr>\n",
       "  </tbody>\n",
       "</table>\n",
       "</div>"
      ],
      "text/plain": [
       "             0     1     2\n",
       "count   125362   439     3\n",
       "unique      89   111     2\n",
       "top       2013  1865  1492\n",
       "freq     15855    36     2"
      ]
     },
     "execution_count": 19,
     "metadata": {},
     "output_type": "execute_result"
    }
   ],
   "source": [
    "pd.DataFrame(x).describe()"
   ]
  },
  {
   "cell_type": "markdown",
   "metadata": {},
   "source": [
    "Dans la majorité des cas (125362 lignes), une seule année est présente, mais pour d'autres on en trouve 2 voire même 3 dans certains cas"
   ]
  },
  {
   "cell_type": "code",
   "execution_count": 20,
   "metadata": {},
   "outputs": [
    {
     "data": {
      "text/plain": [
       "array(['2013', '2011', '2012', '2010', '2007', '2009', '2008', '2014',\n",
       "       '2015', None, '2016', '2004', '2003', '2006', '2001', '2005',\n",
       "       '2002', '1887', '2000', '1999', '1991', '1997', '1996', '1877',\n",
       "       '2017', '1995', '1872', '1637', '1868', '1898', '1492', '1998',\n",
       "       '1852', '1994', '1992', '1840', '1929', '1912', '1875', '1976',\n",
       "       '1964', '1848', '1870', '1856', '1983', '1967', '1990', '1988',\n",
       "       '1827', '1860', '1850', '1000', '1980', '1987', '1989', '1993',\n",
       "       '1969', '1882', '1935', '1503', '1821', '1973', '1978', '1965',\n",
       "       '1968', '1947', '1963', '1070', '1985', '1927', '1904', '1847',\n",
       "       '1982', '1986', '1752', '1789', '1607', '1621', '1919', '1957',\n",
       "       '1966', '1984', '1961', '1845', '1952', '1150', '1941', '1974',\n",
       "       '1934', '1945'], dtype=object)"
      ]
     },
     "execution_count": 20,
     "metadata": {},
     "output_type": "execute_result"
    }
   ],
   "source": [
    "pd.DataFrame(x)[0].unique()"
   ]
  },
  {
   "cell_type": "code",
   "execution_count": 21,
   "metadata": {},
   "outputs": [
    {
     "data": {
      "text/plain": [
       "array([None, '1105', '1423', '2013', '1939', '2002', '2009', '1865',\n",
       "       '2640', '1601', '2010', '1846', '1769', '2131', '2007', '2012',\n",
       "       '1234', '1904', '2011', '1919', '1905', '1573', '1000', '1979',\n",
       "       '1300', '1762', '1973', '1907', '1194', '1147', '1827', '2008',\n",
       "       '1772', '1023', '1910', '1836', '1903', '1810', '1868', '2401',\n",
       "       '1918', '1924', '2003', '1040', '2015', '1866', '1894', '1698',\n",
       "       '1908', '1619', '1610', '1028', '2005', '1815', '1735', '1927',\n",
       "       '1149', '2900', '1988', '1861', '1869', '2014', '1998', '1955',\n",
       "       '1912', '1895', '1100', '1840', '1614', '1879', '1906', '1888',\n",
       "       '1953', '1844', '1970', '1940', '1753', '1913', '2221', '2004',\n",
       "       '1620', '1479', '1935', '2016', '1843', '1870', '1522', '1685',\n",
       "       '1875', '1951', '1947', '1850', '1628', '1871', '1550', '1265',\n",
       "       '1880', '1070', '2000', '1909', '1867', '1914', '1860', '1975',\n",
       "       '1930', '1995', '1886', '1922', '1780', '1885', '1916', '1637'],\n",
       "      dtype=object)"
      ]
     },
     "execution_count": 21,
     "metadata": {},
     "output_type": "execute_result"
    }
   ],
   "source": [
    "pd.DataFrame(x)[1].unique()"
   ]
  },
  {
   "cell_type": "code",
   "execution_count": 22,
   "metadata": {},
   "outputs": [
    {
     "data": {
      "text/plain": [
       "array([None, '1492', '1860'], dtype=object)"
      ]
     },
     "execution_count": 22,
     "metadata": {},
     "output_type": "execute_result"
    }
   ],
   "source": [
    "pd.DataFrame(x)[2].unique()"
   ]
  },
  {
   "cell_type": "markdown",
   "metadata": {},
   "source": [
    "En analysant x on peut voir que (x)[2] n'est pas pertinent, en revanche (x)[0] et (x)[1] doivent être étudiés de manière plus approfondie pour déterminer quelle année est la bonne"
   ]
  },
  {
   "cell_type": "markdown",
   "metadata": {},
   "source": [
    "Créons 2 nouvelles colonnes pour (x)[0] et (x)[1]"
   ]
  },
  {
   "cell_type": "code",
   "execution_count": 23,
   "metadata": {},
   "outputs": [
    {
     "data": {
      "text/html": [
       "<div>\n",
       "<style scoped>\n",
       "    .dataframe tbody tr th:only-of-type {\n",
       "        vertical-align: middle;\n",
       "    }\n",
       "\n",
       "    .dataframe tbody tr th {\n",
       "        vertical-align: top;\n",
       "    }\n",
       "\n",
       "    .dataframe thead th {\n",
       "        text-align: right;\n",
       "    }\n",
       "</style>\n",
       "<table border=\"1\" class=\"dataframe\">\n",
       "  <thead>\n",
       "    <tr style=\"text-align: right;\">\n",
       "      <th></th>\n",
       "      <th>country</th>\n",
       "      <th>description</th>\n",
       "      <th>designation</th>\n",
       "      <th>points</th>\n",
       "      <th>price</th>\n",
       "      <th>province</th>\n",
       "      <th>region_1</th>\n",
       "      <th>region_2</th>\n",
       "      <th>taster_name</th>\n",
       "      <th>taster_twitter_handle</th>\n",
       "      <th>title</th>\n",
       "      <th>variety</th>\n",
       "      <th>winery</th>\n",
       "      <th>year_from_title</th>\n",
       "      <th>year</th>\n",
       "      <th>year_2</th>\n",
       "    </tr>\n",
       "    <tr>\n",
       "      <th>id</th>\n",
       "      <th></th>\n",
       "      <th></th>\n",
       "      <th></th>\n",
       "      <th></th>\n",
       "      <th></th>\n",
       "      <th></th>\n",
       "      <th></th>\n",
       "      <th></th>\n",
       "      <th></th>\n",
       "      <th></th>\n",
       "      <th></th>\n",
       "      <th></th>\n",
       "      <th></th>\n",
       "      <th></th>\n",
       "      <th></th>\n",
       "      <th></th>\n",
       "    </tr>\n",
       "  </thead>\n",
       "  <tbody>\n",
       "    <tr>\n",
       "      <th>0</th>\n",
       "      <td>Italy</td>\n",
       "      <td>Aromas include tropical fruit, broom, brimston...</td>\n",
       "      <td>Other</td>\n",
       "      <td>87</td>\n",
       "      <td>NaN</td>\n",
       "      <td>Sicily &amp; Sardinia</td>\n",
       "      <td>Etna</td>\n",
       "      <td>NaN</td>\n",
       "      <td>Kerin O’Keefe</td>\n",
       "      <td>@kerinokeefe</td>\n",
       "      <td>Nicosia 2013 Vulkà Bianco  (Etna)</td>\n",
       "      <td>White Blend</td>\n",
       "      <td>Nicosia</td>\n",
       "      <td>2013</td>\n",
       "      <td>2013</td>\n",
       "      <td>None</td>\n",
       "    </tr>\n",
       "  </tbody>\n",
       "</table>\n",
       "</div>"
      ],
      "text/plain": [
       "   country                                        description designation  \\\n",
       "id                                                                          \n",
       "0    Italy  Aromas include tropical fruit, broom, brimston...       Other   \n",
       "\n",
       "    points  price           province region_1 region_2    taster_name  \\\n",
       "id                                                                      \n",
       "0       87    NaN  Sicily & Sardinia     Etna      NaN  Kerin O’Keefe   \n",
       "\n",
       "   taster_twitter_handle                              title      variety  \\\n",
       "id                                                                         \n",
       "0           @kerinokeefe  Nicosia 2013 Vulkà Bianco  (Etna)  White Blend   \n",
       "\n",
       "     winery year_from_title  year year_2  \n",
       "id                                        \n",
       "0   Nicosia            2013  2013   None  "
      ]
     },
     "execution_count": 23,
     "metadata": {},
     "output_type": "execute_result"
    }
   ],
   "source": [
    "wine['year'] = pd.DataFrame(x)[0]\n",
    "wine['year_2'] = pd.DataFrame(x)[1]\n",
    "wine.head(1)"
   ]
  },
  {
   "cell_type": "code",
   "execution_count": 24,
   "metadata": {},
   "outputs": [
    {
     "data": {
      "text/plain": [
       "array(['2013', '2011', '2012', '2010', '2007', '2009', '2008', '2014',\n",
       "       '2015', None, '2016', '2004', '2003', '2006', '2001', '2005',\n",
       "       '2002', '1887', '2000', '1999', '1991', '1997', '1996', '1877',\n",
       "       '2017', '1995', '1872', '1637', '1868', '1898', '1492', '1998',\n",
       "       '1852', '1994', '1992', '1840', '1929', '1912', '1875', '1976',\n",
       "       '1964', '1848', '1870', '1856', '1983', '1967', '1990', '1988',\n",
       "       '1827', '1860', '1850', '1000', '1980', '1987', '1989', '1993',\n",
       "       '1969', '1882', '1935', '1503', '1821', '1973', '1978', '1965',\n",
       "       '1968', '1947', '1963', '1070', '1985', '1927', '1904', '1847',\n",
       "       '1982', '1986', '1752', '1789', '1607', '1621', '1919', '1957',\n",
       "       '1966', '1984', '1961', '1845', '1952', '1150', '1941', '1974',\n",
       "       '1934', '1945'], dtype=object)"
      ]
     },
     "execution_count": 24,
     "metadata": {},
     "output_type": "execute_result"
    }
   ],
   "source": [
    "wine['year'].unique()"
   ]
  },
  {
   "cell_type": "code",
   "execution_count": 25,
   "metadata": {},
   "outputs": [
    {
     "data": {
      "text/plain": [
       "array([None, '1105', '1423', '2013', '1939', '2002', '2009', '1865',\n",
       "       '2640', '1601', '2010', '1846', '1769', '2131', '2007', '2012',\n",
       "       '1234', '1904', '2011', '1919', '1905', '1573', '1000', '1979',\n",
       "       '1300', '1762', '1973', '1907', '1194', '1147', '1827', '2008',\n",
       "       '1772', '1023', '1910', '1836', '1903', '1810', '1868', '2401',\n",
       "       '1918', '1924', '2003', '1040', '2015', '1866', '1894', '1698',\n",
       "       '1908', '1619', '1610', '1028', '2005', '1815', '1735', '1927',\n",
       "       '1149', '2900', '1988', '1861', '1869', '2014', '1998', '1955',\n",
       "       '1912', '1895', '1100', '1840', '1614', '1879', '1906', '1888',\n",
       "       '1953', '1844', '1970', '1940', '1753', '1913', '2221', '2004',\n",
       "       '1620', '1479', '1935', '2016', '1843', '1870', '1522', '1685',\n",
       "       '1875', '1951', '1947', '1850', '1628', '1871', '1550', '1265',\n",
       "       '1880', '1070', '2000', '1909', '1867', '1914', '1860', '1975',\n",
       "       '1930', '1995', '1886', '1922', '1780', '1885', '1916', '1637'],\n",
       "      dtype=object)"
      ]
     },
     "execution_count": 25,
     "metadata": {},
     "output_type": "execute_result"
    }
   ],
   "source": [
    "wine['year_2'].unique()"
   ]
  },
  {
   "cell_type": "markdown",
   "metadata": {},
   "source": [
    "Considérons qu'aucun vin ne peut être plus vieux que 1900 et de fait remplaçons toutes les années antérieures à 1900 par la valeur de la colonne Year_2  "
   ]
  },
  {
   "cell_type": "code",
   "execution_count": 26,
   "metadata": {},
   "outputs": [],
   "source": [
    "wine['year'] = np.where(wine['year'] < '1900', wine['year_2'], wine['year'])"
   ]
  },
  {
   "cell_type": "code",
   "execution_count": 27,
   "metadata": {},
   "outputs": [
    {
     "data": {
      "text/plain": [
       "array(['2013', '2011', '2012', '2010', '2007', '2009', '2008', '2014',\n",
       "       '2015', None, '2016', '2004', '2003', '2006', '2001', '2005',\n",
       "       '2002', '2000', '1999', '1991', '1997', '1996', '2017', '1995',\n",
       "       '1998', '1994', '1992', '1929', '1912', '1976', '1964', '1983',\n",
       "       '1967', '1990', '1988', '1980', '1987', '1989', '1993', '1969',\n",
       "       '1935', '1973', '1978', '1965', '1968', '1947', '1963', '1985',\n",
       "       '1927', '1904', '1982', '1986', '1919', '1957', '1966', '1984',\n",
       "       '1961', '1952', '1941', '1974', '1934', '1945'], dtype=object)"
      ]
     },
     "execution_count": 27,
     "metadata": {},
     "output_type": "execute_result"
    }
   ],
   "source": [
    "wine['year'].unique()"
   ]
  },
  {
   "cell_type": "markdown",
   "metadata": {},
   "source": [
    "Certaines années paraissent encore peu probables, pour vérifier, affichons les lignes ayant une colonne Year inférieure à l'année 2000 et une colonne Year_2 non nulle"
   ]
  },
  {
   "cell_type": "code",
   "execution_count": 28,
   "metadata": {},
   "outputs": [
    {
     "data": {
      "text/html": [
       "<div>\n",
       "<style scoped>\n",
       "    .dataframe tbody tr th:only-of-type {\n",
       "        vertical-align: middle;\n",
       "    }\n",
       "\n",
       "    .dataframe tbody tr th {\n",
       "        vertical-align: top;\n",
       "    }\n",
       "\n",
       "    .dataframe thead th {\n",
       "        text-align: right;\n",
       "    }\n",
       "</style>\n",
       "<table border=\"1\" class=\"dataframe\">\n",
       "  <thead>\n",
       "    <tr style=\"text-align: right;\">\n",
       "      <th></th>\n",
       "      <th>country</th>\n",
       "      <th>description</th>\n",
       "      <th>designation</th>\n",
       "      <th>points</th>\n",
       "      <th>price</th>\n",
       "      <th>province</th>\n",
       "      <th>region_1</th>\n",
       "      <th>region_2</th>\n",
       "      <th>taster_name</th>\n",
       "      <th>taster_twitter_handle</th>\n",
       "      <th>title</th>\n",
       "      <th>variety</th>\n",
       "      <th>winery</th>\n",
       "      <th>year_from_title</th>\n",
       "      <th>year</th>\n",
       "      <th>year_2</th>\n",
       "    </tr>\n",
       "    <tr>\n",
       "      <th>id</th>\n",
       "      <th></th>\n",
       "      <th></th>\n",
       "      <th></th>\n",
       "      <th></th>\n",
       "      <th></th>\n",
       "      <th></th>\n",
       "      <th></th>\n",
       "      <th></th>\n",
       "      <th></th>\n",
       "      <th></th>\n",
       "      <th></th>\n",
       "      <th></th>\n",
       "      <th></th>\n",
       "      <th></th>\n",
       "      <th></th>\n",
       "      <th></th>\n",
       "    </tr>\n",
       "  </thead>\n",
       "  <tbody>\n",
       "    <tr>\n",
       "      <th>7986</th>\n",
       "      <td>Italy</td>\n",
       "      <td>This offers subdued aromas of vanilla, toasted...</td>\n",
       "      <td>Other</td>\n",
       "      <td>85</td>\n",
       "      <td>25.0</td>\n",
       "      <td>Tuscany</td>\n",
       "      <td>Vernaccia di San Gimignano</td>\n",
       "      <td>NaN</td>\n",
       "      <td>Kerin O’Keefe</td>\n",
       "      <td>@kerinokeefe</td>\n",
       "      <td>Guidi 1929 2012 Aurea Riserva  (Vernaccia di S...</td>\n",
       "      <td>Other</td>\n",
       "      <td>Other</td>\n",
       "      <td>1929 2012</td>\n",
       "      <td>1929</td>\n",
       "      <td>2012</td>\n",
       "    </tr>\n",
       "    <tr>\n",
       "      <th>9728</th>\n",
       "      <td>Portugal</td>\n",
       "      <td>With aromas of superripe fruit, this wood aged...</td>\n",
       "      <td>Other</td>\n",
       "      <td>90</td>\n",
       "      <td>NaN</td>\n",
       "      <td>Douro</td>\n",
       "      <td>NaN</td>\n",
       "      <td>NaN</td>\n",
       "      <td>Roger Voss</td>\n",
       "      <td>@vossroger</td>\n",
       "      <td>1912 Winemakers 2011 Vinhas Velhas Branco Whit...</td>\n",
       "      <td>Portuguese White</td>\n",
       "      <td>Other</td>\n",
       "      <td>1912 2011</td>\n",
       "      <td>1912</td>\n",
       "      <td>2011</td>\n",
       "    </tr>\n",
       "    <tr>\n",
       "      <th>38689</th>\n",
       "      <td>Portugal</td>\n",
       "      <td>An oak-aged wine that is rich and structured a...</td>\n",
       "      <td>Other</td>\n",
       "      <td>92</td>\n",
       "      <td>NaN</td>\n",
       "      <td>Douro</td>\n",
       "      <td>NaN</td>\n",
       "      <td>NaN</td>\n",
       "      <td>Roger Voss</td>\n",
       "      <td>@vossroger</td>\n",
       "      <td>1912 Winemakers 2009 Piorro Reserva Red (Douro)</td>\n",
       "      <td>Portuguese Red</td>\n",
       "      <td>Other</td>\n",
       "      <td>1912 2009</td>\n",
       "      <td>1912</td>\n",
       "      <td>2009</td>\n",
       "    </tr>\n",
       "    <tr>\n",
       "      <th>41070</th>\n",
       "      <td>Portugal</td>\n",
       "      <td>This classic blend of Douro grapes is soft, fr...</td>\n",
       "      <td>Other</td>\n",
       "      <td>87</td>\n",
       "      <td>NaN</td>\n",
       "      <td>Douro</td>\n",
       "      <td>NaN</td>\n",
       "      <td>NaN</td>\n",
       "      <td>Roger Voss</td>\n",
       "      <td>@vossroger</td>\n",
       "      <td>1912 Winemakers 2013 Piorro Branco Colheita Wh...</td>\n",
       "      <td>Portuguese White</td>\n",
       "      <td>Other</td>\n",
       "      <td>1912 2013</td>\n",
       "      <td>1912</td>\n",
       "      <td>2013</td>\n",
       "    </tr>\n",
       "    <tr>\n",
       "      <th>41483</th>\n",
       "      <td>Spain</td>\n",
       "      <td>Tasty and smooth, this Rioja shows sweet black...</td>\n",
       "      <td>Other</td>\n",
       "      <td>86</td>\n",
       "      <td>9.0</td>\n",
       "      <td>Northern Spain</td>\n",
       "      <td>Rioja</td>\n",
       "      <td>NaN</td>\n",
       "      <td>NaN</td>\n",
       "      <td>NaN</td>\n",
       "      <td>Martinez Bujanda 1998 Conde de Valdemar Crianz...</td>\n",
       "      <td>Tempranillo</td>\n",
       "      <td>Other</td>\n",
       "      <td>1998 1998</td>\n",
       "      <td>1998</td>\n",
       "      <td>1998</td>\n",
       "    </tr>\n",
       "    <tr>\n",
       "      <th>46825</th>\n",
       "      <td>Spain</td>\n",
       "      <td>This slightly brooding red has a sweet and sou...</td>\n",
       "      <td>Other</td>\n",
       "      <td>86</td>\n",
       "      <td>14.0</td>\n",
       "      <td>Northern Spain</td>\n",
       "      <td>Rioja</td>\n",
       "      <td>NaN</td>\n",
       "      <td>NaN</td>\n",
       "      <td>NaN</td>\n",
       "      <td>Otanon 1998 Crianza 1998  (Rioja)</td>\n",
       "      <td>Red Blend</td>\n",
       "      <td>Other</td>\n",
       "      <td>1998 1998</td>\n",
       "      <td>1998</td>\n",
       "      <td>1998</td>\n",
       "    </tr>\n",
       "    <tr>\n",
       "      <th>50821</th>\n",
       "      <td>South Africa</td>\n",
       "      <td>The palate is drenched in sweet oak and sugarp...</td>\n",
       "      <td>NaN</td>\n",
       "      <td>85</td>\n",
       "      <td>30.0</td>\n",
       "      <td>Other</td>\n",
       "      <td>NaN</td>\n",
       "      <td>NaN</td>\n",
       "      <td>NaN</td>\n",
       "      <td>NaN</td>\n",
       "      <td>Prospect 1870 1998 Cabernet Sauvignon (Robertson)</td>\n",
       "      <td>Cabernet Sauvignon</td>\n",
       "      <td>Other</td>\n",
       "      <td>1870 1998</td>\n",
       "      <td>1998</td>\n",
       "      <td>1998</td>\n",
       "    </tr>\n",
       "    <tr>\n",
       "      <th>54720</th>\n",
       "      <td>Portugal</td>\n",
       "      <td>Produced from old vines, this big and rounded ...</td>\n",
       "      <td>Other</td>\n",
       "      <td>93</td>\n",
       "      <td>NaN</td>\n",
       "      <td>Douro</td>\n",
       "      <td>NaN</td>\n",
       "      <td>NaN</td>\n",
       "      <td>Roger Voss</td>\n",
       "      <td>@vossroger</td>\n",
       "      <td>1912 Winemakers 2009 Encosta do Bocho Grand Re...</td>\n",
       "      <td>Portuguese Red</td>\n",
       "      <td>Other</td>\n",
       "      <td>1912 2009</td>\n",
       "      <td>1912</td>\n",
       "      <td>2009</td>\n",
       "    </tr>\n",
       "    <tr>\n",
       "      <th>61105</th>\n",
       "      <td>Portugal</td>\n",
       "      <td>Made in tanks with no wood aging, this wine fr...</td>\n",
       "      <td>Other</td>\n",
       "      <td>87</td>\n",
       "      <td>NaN</td>\n",
       "      <td>Douro</td>\n",
       "      <td>NaN</td>\n",
       "      <td>NaN</td>\n",
       "      <td>Roger Voss</td>\n",
       "      <td>@vossroger</td>\n",
       "      <td>1912 Winemakers 2011 Piorro Colheita Red (Douro)</td>\n",
       "      <td>Portuguese Red</td>\n",
       "      <td>Other</td>\n",
       "      <td>1912 2011</td>\n",
       "      <td>1912</td>\n",
       "      <td>2011</td>\n",
       "    </tr>\n",
       "    <tr>\n",
       "      <th>72369</th>\n",
       "      <td>Portugal</td>\n",
       "      <td>Made from young vines in the Monteiro family v...</td>\n",
       "      <td>Other</td>\n",
       "      <td>88</td>\n",
       "      <td>NaN</td>\n",
       "      <td>Douro</td>\n",
       "      <td>NaN</td>\n",
       "      <td>NaN</td>\n",
       "      <td>Roger Voss</td>\n",
       "      <td>@vossroger</td>\n",
       "      <td>1912 Winemakers 2011 Encosta do Bocho Colheita...</td>\n",
       "      <td>Portuguese Red</td>\n",
       "      <td>Other</td>\n",
       "      <td>1912 2011</td>\n",
       "      <td>1912</td>\n",
       "      <td>2011</td>\n",
       "    </tr>\n",
       "    <tr>\n",
       "      <th>76910</th>\n",
       "      <td>Italy</td>\n",
       "      <td>Dark fruit and astringent tannins make for a b...</td>\n",
       "      <td>Other</td>\n",
       "      <td>87</td>\n",
       "      <td>25.0</td>\n",
       "      <td>Central Italy</td>\n",
       "      <td>Sangiovese di Romagna Superiore</td>\n",
       "      <td>NaN</td>\n",
       "      <td>NaN</td>\n",
       "      <td>NaN</td>\n",
       "      <td>Poderi dal Nespoli 1929 2010 Il Nespoli Riserv...</td>\n",
       "      <td>Sangiovese</td>\n",
       "      <td>Other</td>\n",
       "      <td>1929 2010</td>\n",
       "      <td>1929</td>\n",
       "      <td>2010</td>\n",
       "    </tr>\n",
       "    <tr>\n",
       "      <th>88397</th>\n",
       "      <td>Italy</td>\n",
       "      <td>Rose, violet, charred earth and plummy aromas ...</td>\n",
       "      <td>NaN</td>\n",
       "      <td>87</td>\n",
       "      <td>20.0</td>\n",
       "      <td>Tuscany</td>\n",
       "      <td>Chianti Colli Senesi</td>\n",
       "      <td>NaN</td>\n",
       "      <td>Kerin O’Keefe</td>\n",
       "      <td>@kerinokeefe</td>\n",
       "      <td>Guidi 1929 2011  Chianti Colli Senesi</td>\n",
       "      <td>Sangiovese</td>\n",
       "      <td>Other</td>\n",
       "      <td>1929 2011</td>\n",
       "      <td>1929</td>\n",
       "      <td>2011</td>\n",
       "    </tr>\n",
       "    <tr>\n",
       "      <th>92133</th>\n",
       "      <td>Portugal</td>\n",
       "      <td>With aromas of superripe fruit, this wood aged...</td>\n",
       "      <td>Other</td>\n",
       "      <td>90</td>\n",
       "      <td>NaN</td>\n",
       "      <td>Douro</td>\n",
       "      <td>NaN</td>\n",
       "      <td>NaN</td>\n",
       "      <td>Roger Voss</td>\n",
       "      <td>@vossroger</td>\n",
       "      <td>1912 Winemakers 2011 Vinhas Velhas Branco Whit...</td>\n",
       "      <td>Portuguese White</td>\n",
       "      <td>Other</td>\n",
       "      <td>1912 2011</td>\n",
       "      <td>1912</td>\n",
       "      <td>2011</td>\n",
       "    </tr>\n",
       "    <tr>\n",
       "      <th>102042</th>\n",
       "      <td>Italy</td>\n",
       "      <td>Here's a very correct and clean Sangiovese wit...</td>\n",
       "      <td>Other</td>\n",
       "      <td>84</td>\n",
       "      <td>15.0</td>\n",
       "      <td>Central Italy</td>\n",
       "      <td>Sangiovese di Romagna Superiore</td>\n",
       "      <td>NaN</td>\n",
       "      <td>NaN</td>\n",
       "      <td>NaN</td>\n",
       "      <td>Poderi dal Nespoli 1929 2011 Prugneto  (Sangio...</td>\n",
       "      <td>Sangiovese</td>\n",
       "      <td>Other</td>\n",
       "      <td>1929 2011</td>\n",
       "      <td>1929</td>\n",
       "      <td>2011</td>\n",
       "    </tr>\n",
       "    <tr>\n",
       "      <th>102843</th>\n",
       "      <td>US</td>\n",
       "      <td>Overtly sweet aromas and flavors dominate this...</td>\n",
       "      <td>Other</td>\n",
       "      <td>84</td>\n",
       "      <td>23.0</td>\n",
       "      <td>New York</td>\n",
       "      <td>Finger Lakes</td>\n",
       "      <td>Finger Lakes</td>\n",
       "      <td>NaN</td>\n",
       "      <td>NaN</td>\n",
       "      <td>Hermann J. Wiemer 1997 Cuvée Brut 2000  (Finge...</td>\n",
       "      <td>Champagne Blend</td>\n",
       "      <td>Hermann J. Wiemer</td>\n",
       "      <td>1997 2000</td>\n",
       "      <td>1997</td>\n",
       "      <td>2000</td>\n",
       "    </tr>\n",
       "    <tr>\n",
       "      <th>105052</th>\n",
       "      <td>Italy</td>\n",
       "      <td>Here's an enjoyable white that has light aroma...</td>\n",
       "      <td>NaN</td>\n",
       "      <td>87</td>\n",
       "      <td>14.0</td>\n",
       "      <td>Tuscany</td>\n",
       "      <td>Vernaccia di San Gimignano</td>\n",
       "      <td>NaN</td>\n",
       "      <td>Kerin O’Keefe</td>\n",
       "      <td>@kerinokeefe</td>\n",
       "      <td>Guidi 1929 2015  Vernaccia di San Gimignano</td>\n",
       "      <td>Other</td>\n",
       "      <td>Other</td>\n",
       "      <td>1929 2015</td>\n",
       "      <td>1929</td>\n",
       "      <td>2015</td>\n",
       "    </tr>\n",
       "    <tr>\n",
       "      <th>116264</th>\n",
       "      <td>Italy</td>\n",
       "      <td>This opens with aromas of toasted oak, coffee ...</td>\n",
       "      <td>Riserva</td>\n",
       "      <td>85</td>\n",
       "      <td>20.0</td>\n",
       "      <td>Tuscany</td>\n",
       "      <td>Chianti</td>\n",
       "      <td>NaN</td>\n",
       "      <td>Kerin O’Keefe</td>\n",
       "      <td>@kerinokeefe</td>\n",
       "      <td>Guidi 1929 2010 Riserva  (Chianti)</td>\n",
       "      <td>Sangiovese</td>\n",
       "      <td>Other</td>\n",
       "      <td>1929 2010</td>\n",
       "      <td>1929</td>\n",
       "      <td>2010</td>\n",
       "    </tr>\n",
       "    <tr>\n",
       "      <th>116875</th>\n",
       "      <td>Italy</td>\n",
       "      <td>Ripe del Falco is a successful experiment in t...</td>\n",
       "      <td>Other</td>\n",
       "      <td>88</td>\n",
       "      <td>52.0</td>\n",
       "      <td>Southern Italy</td>\n",
       "      <td>Cirò Classico</td>\n",
       "      <td>NaN</td>\n",
       "      <td>NaN</td>\n",
       "      <td>NaN</td>\n",
       "      <td>Ippolito 1845 1995 Ripe del Falco Riserva Supe...</td>\n",
       "      <td>Other</td>\n",
       "      <td>Other</td>\n",
       "      <td>1845 1995</td>\n",
       "      <td>1995</td>\n",
       "      <td>1995</td>\n",
       "    </tr>\n",
       "    <tr>\n",
       "      <th>120044</th>\n",
       "      <td>Portugal</td>\n",
       "      <td>Aged for a year in new wood, this is a powerfu...</td>\n",
       "      <td>Other</td>\n",
       "      <td>94</td>\n",
       "      <td>NaN</td>\n",
       "      <td>Douro</td>\n",
       "      <td>NaN</td>\n",
       "      <td>NaN</td>\n",
       "      <td>Roger Voss</td>\n",
       "      <td>@vossroger</td>\n",
       "      <td>1912 Winemakers 2009 Piorro Grande Reserva Red...</td>\n",
       "      <td>Portuguese Red</td>\n",
       "      <td>Other</td>\n",
       "      <td>1912 2009</td>\n",
       "      <td>1912</td>\n",
       "      <td>2009</td>\n",
       "    </tr>\n",
       "  </tbody>\n",
       "</table>\n",
       "</div>"
      ],
      "text/plain": [
       "             country                                        description  \\\n",
       "id                                                                        \n",
       "7986           Italy  This offers subdued aromas of vanilla, toasted...   \n",
       "9728        Portugal  With aromas of superripe fruit, this wood aged...   \n",
       "38689       Portugal  An oak-aged wine that is rich and structured a...   \n",
       "41070       Portugal  This classic blend of Douro grapes is soft, fr...   \n",
       "41483          Spain  Tasty and smooth, this Rioja shows sweet black...   \n",
       "46825          Spain  This slightly brooding red has a sweet and sou...   \n",
       "50821   South Africa  The palate is drenched in sweet oak and sugarp...   \n",
       "54720       Portugal  Produced from old vines, this big and rounded ...   \n",
       "61105       Portugal  Made in tanks with no wood aging, this wine fr...   \n",
       "72369       Portugal  Made from young vines in the Monteiro family v...   \n",
       "76910          Italy  Dark fruit and astringent tannins make for a b...   \n",
       "88397          Italy  Rose, violet, charred earth and plummy aromas ...   \n",
       "92133       Portugal  With aromas of superripe fruit, this wood aged...   \n",
       "102042         Italy  Here's a very correct and clean Sangiovese wit...   \n",
       "102843            US  Overtly sweet aromas and flavors dominate this...   \n",
       "105052         Italy  Here's an enjoyable white that has light aroma...   \n",
       "116264         Italy  This opens with aromas of toasted oak, coffee ...   \n",
       "116875         Italy  Ripe del Falco is a successful experiment in t...   \n",
       "120044      Portugal  Aged for a year in new wood, this is a powerfu...   \n",
       "\n",
       "       designation  points  price        province  \\\n",
       "id                                                  \n",
       "7986         Other      85   25.0         Tuscany   \n",
       "9728         Other      90    NaN           Douro   \n",
       "38689        Other      92    NaN           Douro   \n",
       "41070        Other      87    NaN           Douro   \n",
       "41483        Other      86    9.0  Northern Spain   \n",
       "46825        Other      86   14.0  Northern Spain   \n",
       "50821          NaN      85   30.0           Other   \n",
       "54720        Other      93    NaN           Douro   \n",
       "61105        Other      87    NaN           Douro   \n",
       "72369        Other      88    NaN           Douro   \n",
       "76910        Other      87   25.0   Central Italy   \n",
       "88397          NaN      87   20.0         Tuscany   \n",
       "92133        Other      90    NaN           Douro   \n",
       "102042       Other      84   15.0   Central Italy   \n",
       "102843       Other      84   23.0        New York   \n",
       "105052         NaN      87   14.0         Tuscany   \n",
       "116264     Riserva      85   20.0         Tuscany   \n",
       "116875       Other      88   52.0  Southern Italy   \n",
       "120044       Other      94    NaN           Douro   \n",
       "\n",
       "                               region_1      region_2    taster_name  \\\n",
       "id                                                                     \n",
       "7986         Vernaccia di San Gimignano           NaN  Kerin O’Keefe   \n",
       "9728                                NaN           NaN     Roger Voss   \n",
       "38689                               NaN           NaN     Roger Voss   \n",
       "41070                               NaN           NaN     Roger Voss   \n",
       "41483                             Rioja           NaN            NaN   \n",
       "46825                             Rioja           NaN            NaN   \n",
       "50821                               NaN           NaN            NaN   \n",
       "54720                               NaN           NaN     Roger Voss   \n",
       "61105                               NaN           NaN     Roger Voss   \n",
       "72369                               NaN           NaN     Roger Voss   \n",
       "76910   Sangiovese di Romagna Superiore           NaN            NaN   \n",
       "88397              Chianti Colli Senesi           NaN  Kerin O’Keefe   \n",
       "92133                               NaN           NaN     Roger Voss   \n",
       "102042  Sangiovese di Romagna Superiore           NaN            NaN   \n",
       "102843                     Finger Lakes  Finger Lakes            NaN   \n",
       "105052       Vernaccia di San Gimignano           NaN  Kerin O’Keefe   \n",
       "116264                          Chianti           NaN  Kerin O’Keefe   \n",
       "116875                    Cirò Classico           NaN            NaN   \n",
       "120044                              NaN           NaN     Roger Voss   \n",
       "\n",
       "       taster_twitter_handle  \\\n",
       "id                             \n",
       "7986            @kerinokeefe   \n",
       "9728              @vossroger   \n",
       "38689             @vossroger   \n",
       "41070             @vossroger   \n",
       "41483                    NaN   \n",
       "46825                    NaN   \n",
       "50821                    NaN   \n",
       "54720             @vossroger   \n",
       "61105             @vossroger   \n",
       "72369             @vossroger   \n",
       "76910                    NaN   \n",
       "88397           @kerinokeefe   \n",
       "92133             @vossroger   \n",
       "102042                   NaN   \n",
       "102843                   NaN   \n",
       "105052          @kerinokeefe   \n",
       "116264          @kerinokeefe   \n",
       "116875                   NaN   \n",
       "120044            @vossroger   \n",
       "\n",
       "                                                    title             variety  \\\n",
       "id                                                                              \n",
       "7986    Guidi 1929 2012 Aurea Riserva  (Vernaccia di S...               Other   \n",
       "9728    1912 Winemakers 2011 Vinhas Velhas Branco Whit...    Portuguese White   \n",
       "38689     1912 Winemakers 2009 Piorro Reserva Red (Douro)      Portuguese Red   \n",
       "41070   1912 Winemakers 2013 Piorro Branco Colheita Wh...    Portuguese White   \n",
       "41483   Martinez Bujanda 1998 Conde de Valdemar Crianz...         Tempranillo   \n",
       "46825                   Otanon 1998 Crianza 1998  (Rioja)           Red Blend   \n",
       "50821   Prospect 1870 1998 Cabernet Sauvignon (Robertson)  Cabernet Sauvignon   \n",
       "54720   1912 Winemakers 2009 Encosta do Bocho Grand Re...      Portuguese Red   \n",
       "61105    1912 Winemakers 2011 Piorro Colheita Red (Douro)      Portuguese Red   \n",
       "72369   1912 Winemakers 2011 Encosta do Bocho Colheita...      Portuguese Red   \n",
       "76910   Poderi dal Nespoli 1929 2010 Il Nespoli Riserv...          Sangiovese   \n",
       "88397               Guidi 1929 2011  Chianti Colli Senesi          Sangiovese   \n",
       "92133   1912 Winemakers 2011 Vinhas Velhas Branco Whit...    Portuguese White   \n",
       "102042  Poderi dal Nespoli 1929 2011 Prugneto  (Sangio...          Sangiovese   \n",
       "102843  Hermann J. Wiemer 1997 Cuvée Brut 2000  (Finge...     Champagne Blend   \n",
       "105052        Guidi 1929 2015  Vernaccia di San Gimignano               Other   \n",
       "116264                 Guidi 1929 2010 Riserva  (Chianti)          Sangiovese   \n",
       "116875  Ippolito 1845 1995 Ripe del Falco Riserva Supe...               Other   \n",
       "120044  1912 Winemakers 2009 Piorro Grande Reserva Red...      Portuguese Red   \n",
       "\n",
       "                   winery year_from_title  year year_2  \n",
       "id                                                      \n",
       "7986                Other       1929 2012  1929   2012  \n",
       "9728                Other       1912 2011  1912   2011  \n",
       "38689               Other       1912 2009  1912   2009  \n",
       "41070               Other       1912 2013  1912   2013  \n",
       "41483               Other       1998 1998  1998   1998  \n",
       "46825               Other       1998 1998  1998   1998  \n",
       "50821               Other       1870 1998  1998   1998  \n",
       "54720               Other       1912 2009  1912   2009  \n",
       "61105               Other       1912 2011  1912   2011  \n",
       "72369               Other       1912 2011  1912   2011  \n",
       "76910               Other       1929 2010  1929   2010  \n",
       "88397               Other       1929 2011  1929   2011  \n",
       "92133               Other       1912 2011  1912   2011  \n",
       "102042              Other       1929 2011  1929   2011  \n",
       "102843  Hermann J. Wiemer       1997 2000  1997   2000  \n",
       "105052              Other       1929 2015  1929   2015  \n",
       "116264              Other       1929 2010  1929   2010  \n",
       "116875              Other       1845 1995  1995   1995  \n",
       "120044              Other       1912 2009  1912   2009  "
      ]
     },
     "execution_count": 28,
     "metadata": {},
     "output_type": "execute_result"
    }
   ],
   "source": [
    "wine.loc[(wine['year'] < '2000') & (wine['year_2'].notnull())]"
   ]
  },
  {
   "cell_type": "markdown",
   "metadata": {},
   "source": [
    "Après un rapide coup d'oeil, on en déduit que pour ces lignes spécifiques, on peut remplacer la valeur Year par la valeur Year_2 qui semble plus réaliste "
   ]
  },
  {
   "cell_type": "code",
   "execution_count": 29,
   "metadata": {},
   "outputs": [],
   "source": [
    "wine['year'] = np.where(((wine['year'] < '2000') & (wine['year_2'].notnull())), wine['year_2'], wine['year'])"
   ]
  },
  {
   "cell_type": "code",
   "execution_count": 30,
   "metadata": {},
   "outputs": [
    {
     "data": {
      "text/html": [
       "<div>\n",
       "<style scoped>\n",
       "    .dataframe tbody tr th:only-of-type {\n",
       "        vertical-align: middle;\n",
       "    }\n",
       "\n",
       "    .dataframe tbody tr th {\n",
       "        vertical-align: top;\n",
       "    }\n",
       "\n",
       "    .dataframe thead th {\n",
       "        text-align: right;\n",
       "    }\n",
       "</style>\n",
       "<table border=\"1\" class=\"dataframe\">\n",
       "  <thead>\n",
       "    <tr style=\"text-align: right;\">\n",
       "      <th></th>\n",
       "      <th>country</th>\n",
       "      <th>description</th>\n",
       "      <th>designation</th>\n",
       "      <th>points</th>\n",
       "      <th>price</th>\n",
       "      <th>province</th>\n",
       "      <th>region_1</th>\n",
       "      <th>region_2</th>\n",
       "      <th>taster_name</th>\n",
       "      <th>taster_twitter_handle</th>\n",
       "      <th>title</th>\n",
       "      <th>variety</th>\n",
       "      <th>winery</th>\n",
       "      <th>year</th>\n",
       "    </tr>\n",
       "    <tr>\n",
       "      <th>id</th>\n",
       "      <th></th>\n",
       "      <th></th>\n",
       "      <th></th>\n",
       "      <th></th>\n",
       "      <th></th>\n",
       "      <th></th>\n",
       "      <th></th>\n",
       "      <th></th>\n",
       "      <th></th>\n",
       "      <th></th>\n",
       "      <th></th>\n",
       "      <th></th>\n",
       "      <th></th>\n",
       "      <th></th>\n",
       "    </tr>\n",
       "  </thead>\n",
       "  <tbody>\n",
       "    <tr>\n",
       "      <th>0</th>\n",
       "      <td>Italy</td>\n",
       "      <td>Aromas include tropical fruit, broom, brimston...</td>\n",
       "      <td>Other</td>\n",
       "      <td>87</td>\n",
       "      <td>NaN</td>\n",
       "      <td>Sicily &amp; Sardinia</td>\n",
       "      <td>Etna</td>\n",
       "      <td>NaN</td>\n",
       "      <td>Kerin O’Keefe</td>\n",
       "      <td>@kerinokeefe</td>\n",
       "      <td>Nicosia 2013 Vulkà Bianco  (Etna)</td>\n",
       "      <td>White Blend</td>\n",
       "      <td>Nicosia</td>\n",
       "      <td>2013</td>\n",
       "    </tr>\n",
       "  </tbody>\n",
       "</table>\n",
       "</div>"
      ],
      "text/plain": [
       "   country                                        description designation  \\\n",
       "id                                                                          \n",
       "0    Italy  Aromas include tropical fruit, broom, brimston...       Other   \n",
       "\n",
       "    points  price           province region_1 region_2    taster_name  \\\n",
       "id                                                                      \n",
       "0       87    NaN  Sicily & Sardinia     Etna      NaN  Kerin O’Keefe   \n",
       "\n",
       "   taster_twitter_handle                              title      variety  \\\n",
       "id                                                                         \n",
       "0           @kerinokeefe  Nicosia 2013 Vulkà Bianco  (Etna)  White Blend   \n",
       "\n",
       "     winery  year  \n",
       "id                 \n",
       "0   Nicosia  2013  "
      ]
     },
     "execution_count": 30,
     "metadata": {},
     "output_type": "execute_result"
    }
   ],
   "source": [
    "wine.drop(['year_from_title', 'year_2'], axis=1, inplace=True)\n",
    "wine.head(1)"
   ]
  },
  {
   "cell_type": "markdown",
   "metadata": {},
   "source": [
    "## Title"
   ]
  },
  {
   "cell_type": "markdown",
   "metadata": {},
   "source": [
    "Maintenant que nous avons récupéré l'année des vins, revenons à la colonne Title"
   ]
  },
  {
   "cell_type": "markdown",
   "metadata": {},
   "source": [
    "Pour éviter la redondance des informations, on va supprimer les informations de localisation entre parenthèses ainsi que l'année de production  "
   ]
  },
  {
   "cell_type": "code",
   "execution_count": 31,
   "metadata": {},
   "outputs": [
    {
     "data": {
      "text/html": [
       "<div>\n",
       "<style scoped>\n",
       "    .dataframe tbody tr th:only-of-type {\n",
       "        vertical-align: middle;\n",
       "    }\n",
       "\n",
       "    .dataframe tbody tr th {\n",
       "        vertical-align: top;\n",
       "    }\n",
       "\n",
       "    .dataframe thead th {\n",
       "        text-align: right;\n",
       "    }\n",
       "</style>\n",
       "<table border=\"1\" class=\"dataframe\">\n",
       "  <thead>\n",
       "    <tr style=\"text-align: right;\">\n",
       "      <th></th>\n",
       "      <th>country</th>\n",
       "      <th>description</th>\n",
       "      <th>designation</th>\n",
       "      <th>points</th>\n",
       "      <th>price</th>\n",
       "      <th>province</th>\n",
       "      <th>region_1</th>\n",
       "      <th>region_2</th>\n",
       "      <th>taster_name</th>\n",
       "      <th>taster_twitter_handle</th>\n",
       "      <th>title</th>\n",
       "      <th>variety</th>\n",
       "      <th>winery</th>\n",
       "      <th>year</th>\n",
       "    </tr>\n",
       "    <tr>\n",
       "      <th>id</th>\n",
       "      <th></th>\n",
       "      <th></th>\n",
       "      <th></th>\n",
       "      <th></th>\n",
       "      <th></th>\n",
       "      <th></th>\n",
       "      <th></th>\n",
       "      <th></th>\n",
       "      <th></th>\n",
       "      <th></th>\n",
       "      <th></th>\n",
       "      <th></th>\n",
       "      <th></th>\n",
       "      <th></th>\n",
       "    </tr>\n",
       "  </thead>\n",
       "  <tbody>\n",
       "    <tr>\n",
       "      <th>0</th>\n",
       "      <td>Italy</td>\n",
       "      <td>Aromas include tropical fruit, broom, brimston...</td>\n",
       "      <td>Other</td>\n",
       "      <td>87</td>\n",
       "      <td>NaN</td>\n",
       "      <td>Sicily &amp; Sardinia</td>\n",
       "      <td>Etna</td>\n",
       "      <td>NaN</td>\n",
       "      <td>Kerin O’Keefe</td>\n",
       "      <td>@kerinokeefe</td>\n",
       "      <td>Nicosia 2013 Vulkà Bianco</td>\n",
       "      <td>White Blend</td>\n",
       "      <td>Nicosia</td>\n",
       "      <td>2013</td>\n",
       "    </tr>\n",
       "  </tbody>\n",
       "</table>\n",
       "</div>"
      ],
      "text/plain": [
       "   country                                        description designation  \\\n",
       "id                                                                          \n",
       "0    Italy  Aromas include tropical fruit, broom, brimston...       Other   \n",
       "\n",
       "    points  price           province region_1 region_2    taster_name  \\\n",
       "id                                                                      \n",
       "0       87    NaN  Sicily & Sardinia     Etna      NaN  Kerin O’Keefe   \n",
       "\n",
       "   taster_twitter_handle                        title      variety   winery  \\\n",
       "id                                                                            \n",
       "0           @kerinokeefe  Nicosia 2013 Vulkà Bianco    White Blend  Nicosia   \n",
       "\n",
       "    year  \n",
       "id        \n",
       "0   2013  "
      ]
     },
     "execution_count": 31,
     "metadata": {},
     "output_type": "execute_result"
    }
   ],
   "source": [
    "wine['title'] = wine['title'].str.replace(r\"\\(.*?\\)\",\"\")\n",
    "wine.head(1)"
   ]
  },
  {
   "cell_type": "markdown",
   "metadata": {},
   "source": [
    "Pour l'année, on considère que le chiffre valide est forcément compris entre 1900 et 2020"
   ]
  },
  {
   "cell_type": "code",
   "execution_count": 32,
   "metadata": {},
   "outputs": [
    {
     "data": {
      "text/html": [
       "<div>\n",
       "<style scoped>\n",
       "    .dataframe tbody tr th:only-of-type {\n",
       "        vertical-align: middle;\n",
       "    }\n",
       "\n",
       "    .dataframe tbody tr th {\n",
       "        vertical-align: top;\n",
       "    }\n",
       "\n",
       "    .dataframe thead th {\n",
       "        text-align: right;\n",
       "    }\n",
       "</style>\n",
       "<table border=\"1\" class=\"dataframe\">\n",
       "  <thead>\n",
       "    <tr style=\"text-align: right;\">\n",
       "      <th></th>\n",
       "      <th>country</th>\n",
       "      <th>description</th>\n",
       "      <th>designation</th>\n",
       "      <th>points</th>\n",
       "      <th>price</th>\n",
       "      <th>province</th>\n",
       "      <th>region_1</th>\n",
       "      <th>region_2</th>\n",
       "      <th>taster_name</th>\n",
       "      <th>taster_twitter_handle</th>\n",
       "      <th>title</th>\n",
       "      <th>variety</th>\n",
       "      <th>winery</th>\n",
       "      <th>year</th>\n",
       "    </tr>\n",
       "    <tr>\n",
       "      <th>id</th>\n",
       "      <th></th>\n",
       "      <th></th>\n",
       "      <th></th>\n",
       "      <th></th>\n",
       "      <th></th>\n",
       "      <th></th>\n",
       "      <th></th>\n",
       "      <th></th>\n",
       "      <th></th>\n",
       "      <th></th>\n",
       "      <th></th>\n",
       "      <th></th>\n",
       "      <th></th>\n",
       "      <th></th>\n",
       "    </tr>\n",
       "  </thead>\n",
       "  <tbody>\n",
       "    <tr>\n",
       "      <th>0</th>\n",
       "      <td>Italy</td>\n",
       "      <td>Aromas include tropical fruit, broom, brimston...</td>\n",
       "      <td>Other</td>\n",
       "      <td>87</td>\n",
       "      <td>NaN</td>\n",
       "      <td>Sicily &amp; Sardinia</td>\n",
       "      <td>Etna</td>\n",
       "      <td>NaN</td>\n",
       "      <td>Kerin O’Keefe</td>\n",
       "      <td>@kerinokeefe</td>\n",
       "      <td>Nicosia  Vulkà Bianco</td>\n",
       "      <td>White Blend</td>\n",
       "      <td>Nicosia</td>\n",
       "      <td>2013</td>\n",
       "    </tr>\n",
       "  </tbody>\n",
       "</table>\n",
       "</div>"
      ],
      "text/plain": [
       "   country                                        description designation  \\\n",
       "id                                                                          \n",
       "0    Italy  Aromas include tropical fruit, broom, brimston...       Other   \n",
       "\n",
       "    points  price           province region_1 region_2    taster_name  \\\n",
       "id                                                                      \n",
       "0       87    NaN  Sicily & Sardinia     Etna      NaN  Kerin O’Keefe   \n",
       "\n",
       "   taster_twitter_handle                    title      variety   winery  year  \n",
       "id                                                                             \n",
       "0           @kerinokeefe  Nicosia  Vulkà Bianco    White Blend  Nicosia  2013  "
      ]
     },
     "execution_count": 32,
     "metadata": {},
     "output_type": "execute_result"
    }
   ],
   "source": [
    "wine['title'] = wine['title'].str.replace(r\"(?<!\\d)(?:19[0-9]\\d|20[0-2]\\d|2020)(?!\\d)\",\"\")\n",
    "wine.head(1)"
   ]
  },
  {
   "cell_type": "code",
   "execution_count": 33,
   "metadata": {},
   "outputs": [
    {
     "data": {
      "text/plain": [
       "Siduri  Pinot Noir                                           36\n",
       "L. Tramier & Fils  Collection                                31\n",
       "La Crema  Pinot Noir                                         28\n",
       "Roche de Bellene  Vieilles Vignes                            27\n",
       "Williams Selyem  Pinot Noir                                  26\n",
       "                                                             ..\n",
       "1848 Winery  Second Generation Cabernet Sauvignon-Merlot      1\n",
       "Casa Santos Lima  Gewurztraminer                              1\n",
       "G D Vajra  Nostra Signora della Neve Sparkling                1\n",
       "Hannah Nicole Vineyards  Limited Release Row 91 Malbec        1\n",
       "Covey Run  Chardonnay )                                       1\n",
       "Name: title, Length: 78247, dtype: int64"
      ]
     },
     "execution_count": 33,
     "metadata": {},
     "output_type": "execute_result"
    }
   ],
   "source": [
    "wine.title.value_counts()"
   ]
  },
  {
   "cell_type": "markdown",
   "metadata": {},
   "source": [
    "La suppression des infos a entraîné l'apparition de doubles espaces, corrigeons cela "
   ]
  },
  {
   "cell_type": "code",
   "execution_count": 34,
   "metadata": {},
   "outputs": [
    {
     "data": {
      "text/plain": [
       "Siduri Pinot Noir                                  36\n",
       "L. Tramier & Fils Collection                       31\n",
       "La Crema Pinot Noir                                28\n",
       "Roche de Bellene Vieilles Vignes                   27\n",
       "Williams Selyem Pinot Noir                         26\n",
       "                                                   ..\n",
       "Parras Wines Terra Grande Red                       1\n",
       "Miradou Miradou Rosé                                1\n",
       "Sineann Block One Cabernet Sauvignon )              1\n",
       "Domaine G. Metz Vieilles Vignes Gewurztraminer      1\n",
       "Envy Price Vineyard Cabernet Sauvignon              1\n",
       "Name: title, Length: 78211, dtype: int64"
      ]
     },
     "execution_count": 34,
     "metadata": {},
     "output_type": "execute_result"
    }
   ],
   "source": [
    "wine['title'] = wine['title'].str.replace('\\s{2}', ' ')\n",
    "wine.title.value_counts()"
   ]
  },
  {
   "cell_type": "markdown",
   "metadata": {},
   "source": [
    "Maintenant, comme précédemment pour les autres variables, regroupons dans 'Other' les intitulés présents moins de 3 fois   "
   ]
  },
  {
   "cell_type": "code",
   "execution_count": 35,
   "metadata": {},
   "outputs": [
    {
     "data": {
      "text/plain": [
       "Other                                                       81729\n",
       "Siduri Pinot Noir                                              36\n",
       "L. Tramier & Fils Collection                                   31\n",
       "La Crema Pinot Noir                                            28\n",
       "Roche de Bellene Vieilles Vignes                               27\n",
       "                                                            ...  \n",
       "Pierre Sparr Mambourg Grand Cru Gewurztraminer                  3\n",
       "Billecart-Salmon NV Brut Réserve                                3\n",
       "Chandon NV Étoile Brut Sparkling                                3\n",
       "Dr. H. Thanisch  Bernkasteler Badstube Auslese Riesling         3\n",
       "Steininger Loisiumweingarten Reserve Grüner Veltliner           3\n",
       "Name: title, Length: 11910, dtype: int64"
      ]
     },
     "execution_count": 35,
     "metadata": {},
     "output_type": "execute_result"
    }
   ],
   "source": [
    "wine['title_count'] = wine.groupby('title')['title'].transform('count')\n",
    "wine['other_title'] = np.where(wine['title_count']< 3, 'Other', ['title'])\n",
    "wine.loc[wine['other_title'] == 'Other', 'title'] = 'Other'\n",
    "wine.drop(['title_count', 'other_title'], axis=1, inplace=True)\n",
    "wine['title'].value_counts()"
   ]
  },
  {
   "cell_type": "code",
   "execution_count": 36,
   "metadata": {},
   "outputs": [
    {
     "data": {
      "text/html": [
       "<div>\n",
       "<style scoped>\n",
       "    .dataframe tbody tr th:only-of-type {\n",
       "        vertical-align: middle;\n",
       "    }\n",
       "\n",
       "    .dataframe tbody tr th {\n",
       "        vertical-align: top;\n",
       "    }\n",
       "\n",
       "    .dataframe thead th {\n",
       "        text-align: right;\n",
       "    }\n",
       "</style>\n",
       "<table border=\"1\" class=\"dataframe\">\n",
       "  <thead>\n",
       "    <tr style=\"text-align: right;\">\n",
       "      <th></th>\n",
       "      <th>country</th>\n",
       "      <th>description</th>\n",
       "      <th>designation</th>\n",
       "      <th>points</th>\n",
       "      <th>price</th>\n",
       "      <th>province</th>\n",
       "      <th>region_1</th>\n",
       "      <th>region_2</th>\n",
       "      <th>taster_name</th>\n",
       "      <th>taster_twitter_handle</th>\n",
       "      <th>title</th>\n",
       "      <th>variety</th>\n",
       "      <th>winery</th>\n",
       "      <th>year</th>\n",
       "    </tr>\n",
       "    <tr>\n",
       "      <th>id</th>\n",
       "      <th></th>\n",
       "      <th></th>\n",
       "      <th></th>\n",
       "      <th></th>\n",
       "      <th></th>\n",
       "      <th></th>\n",
       "      <th></th>\n",
       "      <th></th>\n",
       "      <th></th>\n",
       "      <th></th>\n",
       "      <th></th>\n",
       "      <th></th>\n",
       "      <th></th>\n",
       "      <th></th>\n",
       "    </tr>\n",
       "  </thead>\n",
       "  <tbody>\n",
       "    <tr>\n",
       "      <th>0</th>\n",
       "      <td>Italy</td>\n",
       "      <td>Aromas include tropical fruit, broom, brimston...</td>\n",
       "      <td>Other</td>\n",
       "      <td>87</td>\n",
       "      <td>NaN</td>\n",
       "      <td>Sicily &amp; Sardinia</td>\n",
       "      <td>Etna</td>\n",
       "      <td>NaN</td>\n",
       "      <td>Kerin O’Keefe</td>\n",
       "      <td>@kerinokeefe</td>\n",
       "      <td>Other</td>\n",
       "      <td>White Blend</td>\n",
       "      <td>Nicosia</td>\n",
       "      <td>2013</td>\n",
       "    </tr>\n",
       "  </tbody>\n",
       "</table>\n",
       "</div>"
      ],
      "text/plain": [
       "   country                                        description designation  \\\n",
       "id                                                                          \n",
       "0    Italy  Aromas include tropical fruit, broom, brimston...       Other   \n",
       "\n",
       "    points  price           province region_1 region_2    taster_name  \\\n",
       "id                                                                      \n",
       "0       87    NaN  Sicily & Sardinia     Etna      NaN  Kerin O’Keefe   \n",
       "\n",
       "   taster_twitter_handle  title      variety   winery  year  \n",
       "id                                                           \n",
       "0           @kerinokeefe  Other  White Blend  Nicosia  2013  "
      ]
     },
     "execution_count": 36,
     "metadata": {},
     "output_type": "execute_result"
    }
   ],
   "source": [
    "wine.head(1)"
   ]
  },
  {
   "cell_type": "markdown",
   "metadata": {},
   "source": [
    "# Valeurs manquantes"
   ]
  },
  {
   "cell_type": "markdown",
   "metadata": {},
   "source": [
    "Maintenant que nos catégories sont toutes valides pour chaque colonne, il est temps de gérer les valeurs manquantes"
   ]
  },
  {
   "cell_type": "code",
   "execution_count": 37,
   "metadata": {},
   "outputs": [
    {
     "name": "stdout",
     "output_type": "stream",
     "text": [
      "country                   True\n",
      "description              False\n",
      "designation               True\n",
      "points                   False\n",
      "price                     True\n",
      "province                  True\n",
      "region_1                  True\n",
      "region_2                  True\n",
      "taster_name               True\n",
      "taster_twitter_handle     True\n",
      "title                    False\n",
      "variety                   True\n",
      "winery                   False\n",
      "year                      True\n",
      "dtype: bool\n"
     ]
    }
   ],
   "source": [
    "print(wine.isnull().any())"
   ]
  },
  {
   "cell_type": "markdown",
   "metadata": {},
   "source": [
    "Remplaçons d'abord les valeurs catégorielles manquantes par 'Other'"
   ]
  },
  {
   "cell_type": "code",
   "execution_count": 38,
   "metadata": {},
   "outputs": [
    {
     "name": "stdout",
     "output_type": "stream",
     "text": [
      "country                  False\n",
      "description              False\n",
      "designation              False\n",
      "points                   False\n",
      "price                     True\n",
      "province                 False\n",
      "region_1                 False\n",
      "region_2                 False\n",
      "taster_name              False\n",
      "taster_twitter_handle    False\n",
      "title                    False\n",
      "variety                  False\n",
      "winery                   False\n",
      "year                      True\n",
      "dtype: bool\n"
     ]
    }
   ],
   "source": [
    "wine['country'].fillna('Other', inplace=True)\n",
    "wine['designation'].fillna('Other', inplace=True)\n",
    "wine['province'].fillna('Other', inplace=True)\n",
    "wine['region_1'].fillna('Other', inplace=True)\n",
    "wine['region_2'].fillna('Other', inplace=True)\n",
    "wine['taster_name'].fillna('Other', inplace=True)\n",
    "wine['taster_twitter_handle'].fillna('Other', inplace=True)\n",
    "wine['variety'].fillna('Other', inplace=True)\n",
    "print(wine.isnull().any())"
   ]
  },
  {
   "cell_type": "markdown",
   "metadata": {},
   "source": [
    "Maintenant les valeurs numériques, en commençant par le prix"
   ]
  },
  {
   "cell_type": "code",
   "execution_count": 39,
   "metadata": {},
   "outputs": [
    {
     "name": "stdout",
     "output_type": "stream",
     "text": [
      "35.363389129985535\n",
      "25.0\n",
      "3300.0\n",
      "4.0\n"
     ]
    }
   ],
   "source": [
    "print(wine['price'].mean())\n",
    "print(wine['price'].median())\n",
    "print(wine['price'].max())\n",
    "print(wine['price'].min())"
   ]
  },
  {
   "cell_type": "markdown",
   "metadata": {},
   "source": [
    "Etant donné que nous avons des valeurs extrêmes pour le prix, prenons la médiane pour remplacer les valeurs manquantes "
   ]
  },
  {
   "cell_type": "code",
   "execution_count": 40,
   "metadata": {},
   "outputs": [],
   "source": [
    "wine['price'].fillna(wine['price'].median(), inplace=True)"
   ]
  },
  {
   "cell_type": "markdown",
   "metadata": {},
   "source": [
    "Pour l'année, voyons laquelle est la plus présente pour l'indiquer comme base dans les valeurs manquantes"
   ]
  },
  {
   "cell_type": "code",
   "execution_count": 41,
   "metadata": {},
   "outputs": [
    {
     "data": {
      "text/plain": [
       "2013    15875\n",
       "2012    15747\n",
       "2014    15582\n",
       "2011    12558\n",
       "2010    12167\n",
       "2015    10052\n",
       "2009     9878\n",
       "2008     7439\n",
       "2007     7053\n",
       "2006     5772\n",
       "2016     3691\n",
       "2005     3613\n",
       "2004     1774\n",
       "2000      759\n",
       "2001      691\n",
       "1999      641\n",
       "2003      598\n",
       "1998      551\n",
       "2002      366\n",
       "1997      302\n",
       "1996       67\n",
       "1995       50\n",
       "1994       23\n",
       "1992       16\n",
       "2017       11\n",
       "1989        6\n",
       "1990        5\n",
       "1988        5\n",
       "1986        4\n",
       "1985        4\n",
       "1991        4\n",
       "1963        3\n",
       "1993        3\n",
       "1952        2\n",
       "1980        2\n",
       "1966        2\n",
       "1978        2\n",
       "1927        2\n",
       "1964        2\n",
       "1984        2\n",
       "1987        2\n",
       "1983        2\n",
       "1961        1\n",
       "1973        1\n",
       "1934        1\n",
       "1941        1\n",
       "1904        1\n",
       "1974        1\n",
       "1967        1\n",
       "1935        1\n",
       "1947        1\n",
       "1969        1\n",
       "1968        1\n",
       "1945        1\n",
       "1965        1\n",
       "1976        1\n",
       "1919        1\n",
       "1982        1\n",
       "1957        1\n",
       "Name: year, dtype: int64"
      ]
     },
     "execution_count": 41,
     "metadata": {},
     "output_type": "execute_result"
    }
   ],
   "source": [
    "wine['year'].value_counts()"
   ]
  },
  {
   "cell_type": "code",
   "execution_count": 42,
   "metadata": {},
   "outputs": [
    {
     "name": "stdout",
     "output_type": "stream",
     "text": [
      "country                  False\n",
      "description              False\n",
      "designation              False\n",
      "points                   False\n",
      "price                    False\n",
      "province                 False\n",
      "region_1                 False\n",
      "region_2                 False\n",
      "taster_name              False\n",
      "taster_twitter_handle    False\n",
      "title                    False\n",
      "variety                  False\n",
      "winery                   False\n",
      "year                     False\n",
      "dtype: bool\n"
     ]
    }
   ],
   "source": [
    "wine['year'].fillna('2013', inplace=True)\n",
    "print(wine.isnull().any())"
   ]
  },
  {
   "cell_type": "code",
   "execution_count": 43,
   "metadata": {},
   "outputs": [
    {
     "data": {
      "text/html": [
       "<div>\n",
       "<style scoped>\n",
       "    .dataframe tbody tr th:only-of-type {\n",
       "        vertical-align: middle;\n",
       "    }\n",
       "\n",
       "    .dataframe tbody tr th {\n",
       "        vertical-align: top;\n",
       "    }\n",
       "\n",
       "    .dataframe thead th {\n",
       "        text-align: right;\n",
       "    }\n",
       "</style>\n",
       "<table border=\"1\" class=\"dataframe\">\n",
       "  <thead>\n",
       "    <tr style=\"text-align: right;\">\n",
       "      <th></th>\n",
       "      <th>country</th>\n",
       "      <th>description</th>\n",
       "      <th>designation</th>\n",
       "      <th>points</th>\n",
       "      <th>price</th>\n",
       "      <th>province</th>\n",
       "      <th>region_1</th>\n",
       "      <th>region_2</th>\n",
       "      <th>taster_name</th>\n",
       "      <th>taster_twitter_handle</th>\n",
       "      <th>title</th>\n",
       "      <th>variety</th>\n",
       "      <th>winery</th>\n",
       "      <th>year</th>\n",
       "    </tr>\n",
       "    <tr>\n",
       "      <th>id</th>\n",
       "      <th></th>\n",
       "      <th></th>\n",
       "      <th></th>\n",
       "      <th></th>\n",
       "      <th></th>\n",
       "      <th></th>\n",
       "      <th></th>\n",
       "      <th></th>\n",
       "      <th></th>\n",
       "      <th></th>\n",
       "      <th></th>\n",
       "      <th></th>\n",
       "      <th></th>\n",
       "      <th></th>\n",
       "    </tr>\n",
       "  </thead>\n",
       "  <tbody>\n",
       "    <tr>\n",
       "      <th>0</th>\n",
       "      <td>Italy</td>\n",
       "      <td>Aromas include tropical fruit, broom, brimston...</td>\n",
       "      <td>Other</td>\n",
       "      <td>87</td>\n",
       "      <td>25.0</td>\n",
       "      <td>Sicily &amp; Sardinia</td>\n",
       "      <td>Etna</td>\n",
       "      <td>Other</td>\n",
       "      <td>Kerin O’Keefe</td>\n",
       "      <td>@kerinokeefe</td>\n",
       "      <td>Other</td>\n",
       "      <td>White Blend</td>\n",
       "      <td>Nicosia</td>\n",
       "      <td>2013</td>\n",
       "    </tr>\n",
       "  </tbody>\n",
       "</table>\n",
       "</div>"
      ],
      "text/plain": [
       "   country                                        description designation  \\\n",
       "id                                                                          \n",
       "0    Italy  Aromas include tropical fruit, broom, brimston...       Other   \n",
       "\n",
       "    points  price           province region_1 region_2    taster_name  \\\n",
       "id                                                                      \n",
       "0       87   25.0  Sicily & Sardinia     Etna    Other  Kerin O’Keefe   \n",
       "\n",
       "   taster_twitter_handle  title      variety   winery  year  \n",
       "id                                                           \n",
       "0           @kerinokeefe  Other  White Blend  Nicosia  2013  "
      ]
     },
     "execution_count": 43,
     "metadata": {},
     "output_type": "execute_result"
    }
   ],
   "source": [
    "wine.head(1)"
   ]
  },
  {
   "cell_type": "raw",
   "metadata": {},
   "source": [
    "wine.to_csv (r'clean_wine_data.csv', index = True, header=True)"
   ]
  }
 ],
 "metadata": {
  "kernelspec": {
   "display_name": "Python 3",
   "language": "python",
   "name": "python3"
  },
  "language_info": {
   "codemirror_mode": {
    "name": "ipython",
    "version": 3
   },
   "file_extension": ".py",
   "mimetype": "text/x-python",
   "name": "python",
   "nbconvert_exporter": "python",
   "pygments_lexer": "ipython3",
   "version": "3.8.6"
  }
 },
 "nbformat": 4,
 "nbformat_minor": 4
}
